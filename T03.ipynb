{
  "metadata": {
    "kernelspec": {
      "name": "python",
      "display_name": "Python (Pyodide)",
      "language": "python"
    },
    "language_info": {
      "codemirror_mode": {
        "name": "python",
        "version": 3
      },
      "file_extension": ".py",
      "mimetype": "text/x-python",
      "name": "python",
      "nbconvert_exporter": "python",
      "pygments_lexer": "ipython3",
      "version": "3.8"
    }
  },
  "nbformat_minor": 4,
  "nbformat": 4,
  "cells": [
    {
      "cell_type": "markdown",
      "source": "# T03 - SYMPY\n\nRené Alejandro González Velázquez (752235)\n\nIngenieria civil\n\n03/09/2024",
      "metadata": {}
    },
    {
      "cell_type": "markdown",
      "source": "1. El perímetro de un triángulo isósceles es de 20 cm. Imagina que este triángulo rota centrado en su eje de simetría para formar la ilusión de un cono. ¿Cuánto deben medir sus lados para que el volumen generado por la rotación sea el mayor posible?",
      "metadata": {}
    },
    {
      "cell_type": "code",
      "source": "import sympy as sp\na = sp.var('a')\nb = 20 - 2*a\nh = sp.sqrt(a**2 - (b/2)**2)\nr = b / 2\nvolumen = (1/3) * sp.pi * r**2 * h\n\nvolume_diff = sp.diff(volumen, a)\na_opt = sp.solve(volume_diff, a)\nb_opt = b.subs(a, a_opt[0])\nvolume_opt = volumen.subs(a, a_opt[0]).subs(b, b_opt)\n\na_opt, b_opt, volume_opt",
      "metadata": {
        "trusted": true
      },
      "outputs": [
        {
          "execution_count": 4,
          "output_type": "execute_result",
          "data": {
            "text/plain": "([6.00000000000000, 10.0000000000000], 8.00000000000000, 23.8513917599978*pi)"
          },
          "metadata": {}
        }
      ],
      "execution_count": 4
    },
    {
      "cell_type": "code",
      "source": "",
      "metadata": {
        "trusted": true
      },
      "outputs": [],
      "execution_count": null
    },
    {
      "cell_type": "code",
      "source": "import numpy as np\n\npaso = 0.01\nmejor_volumen = 0\nmejor_a = 0\nmejor_b = 0\na = 0.01\nwhile a < 10.00:\n    b = 20 - 2 * a\n\n    if b > 0:\n        h = np.sqrt(a**2 - (b / 2)**2)\n        r = b / 2\n        volumen = (1 / 3) * np.pi * r**2 * h\n\n        if volumen > mejor_volumen:\n            mejor_volumen = volumen\n            mejor_a = a\n            mejor_b = b\n    a += paso\n\nprint(f\"Para maximizar el volumen del cono:\")\nprint(f\"Longitud de los dos lados iguales del triángulo isósceles: {mejor_a:.2f} cm\")\nprint(f\"Longitud de la base del triángulo isósceles: {mejor_b:.2f} cm\")\nprint(f\"Volumen máximo del cono generado: {mejor_volumen:.2f} cm³\")",
      "metadata": {
        "trusted": true
      },
      "outputs": [
        {
          "name": "stdout",
          "text": "Para maximizar el volumen del cono:\nLongitud de los dos lados iguales del triángulo isósceles: 6.00 cm\nLongitud de la base del triángulo isósceles: 8.00 cm\nVolumen máximo del cono generado: 74.93 cm³\n",
          "output_type": "stream"
        }
      ],
      "execution_count": 1
    }
  ]
}