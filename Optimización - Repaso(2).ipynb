{
 "cells": [
  {
   "cell_type": "markdown",
   "metadata": {},
   "source": [
    "# Repaso Módulo 1 - Optimización.\n",
    "---"
   ]
  },
  {
   "cell_type": "markdown",
   "metadata": {},
   "source": [
    "## Primer punto. Optimización de funciones escalares usando `sympy`.\n",
    "\n",
    "**Enunciado.** Calcular **las dimensiones** del rectángulo de área máxima que puede inscribirse dentro de un semicírculo de radio 2.\n",
    "\n",
    "Note que **las dimensiones** son base $b = 2x$ y altura $h = y$. Ver la siguiente figura."
   ]
  },
  {
   "cell_type": "code",
   "execution_count": 1,
   "metadata": {},
   "outputs": [],
   "source": [
    "import numpy as np\n",
    "import matplotlib.pyplot as plt\n",
    "%matplotlib inline"
   ]
  },
  {
   "cell_type": "code",
   "execution_count": 2,
   "metadata": {},
   "outputs": [
    {
     "data": {
      "image/png": "[encoded data removed]",
      "text/plain": [
       "<Figure size 864x432 with 1 Axes>"
      ]
     },
     "metadata": {
      "needs_background": "light"
     },
     "output_type": "display_data"
    }
   ],
   "source": [
    "x = np.linspace(-2, 2, 100)\n",
    "y = np.sqrt(4 - x**2)\n",
    "\n",
    "xr = [-1.5, -1.5, 1.5, 1.5, -1.5]\n",
    "yr = [0, np.sqrt(4 - 1.5**2), np.sqrt(4 - 1.5**2), 0, 0]\n",
    "\n",
    "xx = [0, 1.5]\n",
    "yx = [0, 0]\n",
    "\n",
    "xy = [1.5, 1.5]\n",
    "yy = [0, np.sqrt(4 - 1.5**2)]\n",
    "\n",
    "plt.figure(figsize = (12, 6))\n",
    "plt.plot(x, y, 'b', label = 'semicírculo')\n",
    "plt.plot(xr, yr, 'r', label = 'rectángulo')\n",
    "plt.plot(xx, yx, 'k')\n",
    "plt.plot(xy, yy, 'g')\n",
    "plt.text(0.7, 0.1, '$x$', fontsize = 16)\n",
    "plt.text(1.6, 0.6, '$y$', fontsize = 16, color = 'g')\n",
    "plt.legend(loc = 'best')\n",
    "plt.show()"
   ]
  },
  {
   "cell_type": "markdown",
   "metadata": {},
   "source": [
    "**Punto 1.** Encuentre el área del rectángulo en función de la variable $x$, $A_R(x)$. También provea el dominio de la función para que tenga sentido.\n",
    "\n",
    "Realice este punto usando fórmulas en $\\LaTeX$, en celdas Markdown."
   ]
  },
  {
   "cell_type": "markdown",
   "metadata": {},
   "source": [
    "### Datos que conozco\n",
    "\n",
    "$$ r=2$$ \n",
    "\n",
    "Nota: r sera mi h de pitogar y el puedo resolverlo como si fuera la mitad de un rectangulo es decir\n",
    "\n",
    "$$ Ac= xy $$\n",
    "\n",
    "Luego, puedo despejar pitagoras: \n",
    "\n",
    "$$ r^2=x^2+y^2$$ \n",
    "\n",
    "Sistiuyo para y\n",
    "\n",
    "$$ y=\\sqrt{-x^2+4}$$\n",
    "\n",
    "Sistiuto en la formula \n",
    "\n",
    "$$ Ac=x(\\sqrt{-x^2+4}) $$\n",
    "\n",
    "Ahora derivo y para encuntrar su punto critico\n"
   ]
  },
  {
   "cell_type": "markdown",
   "metadata": {},
   "source": [
    "**Punto 2.** Usando `sympy` maximice la función $A_R(x)$ en su dominio."
   ]
  },
  {
   "cell_type": "code",
   "execution_count": 3,
   "metadata": {},
   "outputs": [
    {
     "data": {
      "text/latex": [
       "$\\displaystyle \\sqrt{2}$"
      ],
      "text/plain": [
       "sqrt(2)"
      ]
     },
     "execution_count": 3,
     "metadata": {},
     "output_type": "execute_result"
    }
   ],
   "source": [
    "import sympy as sp\n",
    "sp.var(\"x\")\n",
    "sp.var(\"y\")\n",
    "Area=x*y\n",
    "Diagonal=x**2+y**2-2**2\n",
    "y_x=sp.solve(Diagonal, y)[1]\n",
    "Area_x=Area.subs(y, y_x)\n",
    "dA=sp.diff(Area_x)\n",
    "pc=sp.solve(dA, x)[1]\n",
    "op=y_x.subs(x, pc)\n",
    "op"
   ]
  },
  {
   "cell_type": "markdown",
   "metadata": {},
   "source": [
    "**Punto 3.** ¿Cuáles son las dimensiones $b$ y $h$ del rectángulo resultante?"
   ]
  },
  {
   "cell_type": "code",
   "execution_count": 6,
   "metadata": {},
   "outputs": [
    {
     "data": {
      "text/plain": [
       "(2*sqrt(2), sqrt(2))"
      ]
     },
     "execution_count": 6,
     "metadata": {},
     "output_type": "execute_result"
    }
   ],
   "source": [
    "Base=2*op\n",
    "H= op\n",
    "\n",
    "Base, H"
   ]
  },
  {
   "cell_type": "code",
   "execution_count": 22,
   "metadata": {},
   "outputs": [
    {
     "data": {
      "text/latex": [
       "$\\displaystyle 4$"
      ],
      "text/plain": [
       "4"
      ]
     },
     "execution_count": 22,
     "metadata": {},
     "output_type": "execute_result"
    }
   ],
   "source": [
    "Base*H\n"
   ]
  },
  {
   "cell_type": "markdown",
   "metadata": {},
   "source": [
    "## Segundo punto. Programación lineal."
   ]
  },
  {
   "cell_type": "markdown",
   "metadata": {},
   "source": [
    "**Enunciado.** Considere un restaurante que abre los siete días de la semana. Con base en la experiencia, el mínimo número de trabajadores necesarios en cada día de la semana es:"
   ]
  },
  {
   "cell_type": "markdown",
   "metadata": {},
   "source": [
    "Cada trabajador labora cinco días consecutivos, y luego descansa dos, repitiendo este patrón indefinidamente. Se debe minimizar la cantidad de trabajadores totales en el restaurante.\n",
    "\n",
    "*Definición de variables*: enumeramos los días del uno al siete (Lunes - 1, Martes - 2, ..., Domingo - 7). Sea $x_i$ el número de trabajadores que empieza su turno de cinco días el día $i$."
   ]
  },
  {
   "cell_type": "markdown",
   "metadata": {},
   "source": [
    "**Punto 1.** Escriba la función a minimizar junto con las restricciones, explicando detalladamente cada paso (usando fórmulas en LaTeX, en celdas Markdown). Además escriba el problema en la forma \n",
    "\\begin{equation}\n",
    "\\begin{array}{ll}\n",
    "\\min_{\\boldsymbol{x}} & \\boldsymbol{c}^T\\boldsymbol{x} \\\\\n",
    "\\text{s. a. }        & \\boldsymbol{A}_{eq}\\boldsymbol{x}=\\boldsymbol{b}_{eq} \\\\\n",
    "                     & \\boldsymbol{A}\\boldsymbol{x}\\leq\\boldsymbol{b},\n",
    "\\end{array}\n",
    "\\end{equation}\n",
    "\n",
    "proporcionando $\\boldsymbol{c}$, $\\boldsymbol{A}$ y $\\boldsymbol{b}$ ($\\boldsymbol{A}_{eq}$ y $\\boldsymbol{b}_{eq}$, de ser necesario)."
   ]
  },
  {
   "cell_type": "code",
   "execution_count": 2,
   "metadata": {},
   "outputs": [],
   "source": [
    "import pandas as pd\n",
    "import scipy.optimize as opt"
   ]
  },
  {
   "cell_type": "code",
   "execution_count": 3,
   "metadata": {},
   "outputs": [
    {
     "data": {
      "text/html": [
       "<div>\n",
       "<style scoped>\n",
       "    .dataframe tbody tr th:only-of-type {\n",
       "        vertical-align: middle;\n",
       "    }\n",
       "\n",
       "    .dataframe tbody tr th {\n",
       "        vertical-align: top;\n",
       "    }\n",
       "\n",
       "    .dataframe thead th {\n",
       "        text-align: right;\n",
       "    }\n",
       "</style>\n",
       "<table border=\"1\" class=\"dataframe\">\n",
       "  <thead>\n",
       "    <tr style=\"text-align: right;\">\n",
       "      <th></th>\n",
       "      <th>Lunes</th>\n",
       "      <th>Martes</th>\n",
       "      <th>Miercoles</th>\n",
       "      <th>Jueves</th>\n",
       "      <th>Viernes</th>\n",
       "      <th>Sábado</th>\n",
       "      <th>Domingo</th>\n",
       "    </tr>\n",
       "  </thead>\n",
       "  <tbody>\n",
       "    <tr>\n",
       "      <th>Num_trabajadores</th>\n",
       "      <td>14</td>\n",
       "      <td>13</td>\n",
       "      <td>15</td>\n",
       "      <td>16</td>\n",
       "      <td>19</td>\n",
       "      <td>18</td>\n",
       "      <td>11</td>\n",
       "    </tr>\n",
       "  </tbody>\n",
       "</table>\n",
       "</div>"
      ],
      "text/plain": [
       "                 Lunes Martes Miercoles Jueves Viernes Sábado Domingo\n",
       "Num_trabajadores    14     13        15     16      19     18      11"
      ]
     },
     "execution_count": 3,
     "metadata": {},
     "output_type": "execute_result"
    }
   ],
   "source": [
    "df = pd.DataFrame(columns=['Lunes', 'Martes', 'Miercoles', 'Jueves', 'Viernes', 'Sábado', 'Domingo'], index = ['Num_trabajadores'])\n",
    "df.loc['Num_trabajadores', :] = [14, 13, 15, 16, 19, 18, 11]\n",
    "df"
   ]
  },
  {
   "cell_type": "markdown",
   "metadata": {},
   "source": [
    "* Criterio:Minimizar el número de trabajadores por dia\n",
    "\n",
    "* Variables:\n",
    "\n",
    "  $$Lunes----x_1$$\n",
    "  $$Martes---x_2$$\n",
    "  $$Miercoles---x_3$$\n",
    "  $$Juves---x_4$$\n",
    "  $$Viernes---x_5$$\n",
    "  $$Sabado---x_6$$\n",
    "  $$Domingo---x_7$$\n",
    "\n",
    "* Funcion de costo:\n",
    "\n",
    "  $$C= x_1+x_2+x_3+x_4+x_5+x_6+x_7$$\n",
    "\n",
    "* Restricciones:\n",
    "\n",
    "  * Tienen que ser mayores a la cantidad que se dice \n",
    "\n",
    "\n"
   ]
  },
  {
   "cell_type": "markdown",
   "metadata": {},
   "source": [
    "**Punto 2.** Resuelva el problema utilizando la función `linprog`. ¿Cuántos trabajadores son necesarios en total?"
   ]
  },
  {
   "cell_type": "code",
   "execution_count": 24,
   "metadata": {},
   "outputs": [
    {
     "data": {
      "text/plain": [
       "        message: Optimization terminated successfully. (HiGHS Status 7: Optimal)\n",
       "        success: True\n",
       "         status: 0\n",
       "            fun: 22.0\n",
       "              x: [ 7.000e+00  0.000e+00  3.000e+00  0.000e+00  4.000e+00\n",
       "                   7.000e+00  1.000e+00]\n",
       "            nit: 7\n",
       "          lower:  residual: [ 7.000e+00  0.000e+00  3.000e+00  0.000e+00\n",
       "                              4.000e+00  7.000e+00  1.000e+00]\n",
       "                 marginals: [ 0.000e+00  0.000e+00  0.000e+00  3.333e-01\n",
       "                              0.000e+00  0.000e+00  0.000e+00]\n",
       "          upper:  residual: [       inf        inf        inf        inf\n",
       "                                    inf        inf        inf]\n",
       "                 marginals: [ 0.000e+00  0.000e+00  0.000e+00  0.000e+00\n",
       "                              0.000e+00  0.000e+00  0.000e+00]\n",
       "          eqlin:  residual: []\n",
       "                 marginals: []\n",
       "        ineqlin:  residual: [ 0.000e+00  1.000e+00  0.000e+00  3.000e+00\n",
       "                              0.000e+00  0.000e+00  0.000e+00]\n",
       "                 marginals: [-3.333e-01 -0.000e+00 -3.333e-01 -0.000e+00\n",
       "                             -3.333e-01 -3.333e-01 -0.000e+00]\n",
       " mip_node_count: 0\n",
       " mip_dual_bound: 0.0\n",
       "        mip_gap: 0.0"
      ]
     },
     "execution_count": 24,
     "metadata": {},
     "output_type": "execute_result"
    }
   ],
   "source": [
    "import numpy as np\n",
    "import scipy.optimize as opt\n",
    "c=np.array([1, \n",
    "           1,\n",
    "           1,\n",
    "           1,\n",
    "           1,\n",
    "           1,\n",
    "           1])\n",
    "Aub= np.array([\n",
    "    [-1, -1, -1, -1, -1, 0, 0], \n",
    "    [0, -1, -1, -1, -1, -1, 0], \n",
    "    [0, 0, -1, -1, -1, -1, -1], \n",
    "    [-1, 0, 0, -1, -1, -1, -1], \n",
    "    [-1, -1, 0, 0, -1, -1, -1],\n",
    "    [-1, -1, -1, 0, 0, -1, -1], \n",
    "    [-1, -1, -1, -1, 0, 0, -1]\n",
    "\n",
    "]) \n",
    "\n",
    "bub=np.array([\n",
    "    -14, \n",
    "    -13,\n",
    "    -15, \n",
    "    -16, \n",
    "    -19, \n",
    "    -18, \n",
    "    -11                      \n",
    "])\n",
    "\n",
    "opt.linprog(c, Aub, bub)"
   ]
  },
  {
   "cell_type": "markdown",
   "metadata": {},
   "source": [
    "## Tercer punto. Regresión lineal.\n",
    "\n",
    "**Enunciado**. El archivo `Salarios_minimos.csv` contiene datos simplificados de los salarios mínimos desde 1986 a la fecha. La primer columna corresponde a los años, la segunda a dichos salarios. La información completa se encuentra en\n",
    "\n",
    "https://idconline.mx/laboral/salarios-minimos/salarios-minimos-1986-2007.\n",
    "\n",
    "**Punto 1.** Importar los datos en un DataFrame de pandas."
   ]
  },
  {
   "cell_type": "markdown",
   "metadata": {},
   "source": [
    "**Punto 2.** Usando los años como variable independiente $x$ y los salarios mínimos como variable dependiente $y$, ajustar polinomios de grado 1 hasta grado 3. Es decir:\n",
    "\n",
    "$$ y_1 = \\beta_0 + \\beta_1 x $$\n",
    "$$ y_2 = \\beta_0 + \\beta_1 x + \\beta_2 x^2$$\n",
    "$$ y_3 = \\beta_0 + \\beta_1 x + \\beta_2 x^2 + + \\beta_3 x^3 $$\n",
    "\n",
    "\n",
    "\n",
    "Mostrar en un solo gráfico los datos del archivo contra los años, y los polinomios ajustados.\n",
    "\n",
    "Graficar la suma de los errores al cuadrado (RSS) contra el número de términos. ¿Cuál es el polinomio que mejor se ajusta?"
   ]
  },
  {
   "cell_type": "markdown",
   "metadata": {},
   "source": [
    "**Punto 3.** Con los polinomios ajustados en el punto anterior, estime el salario mínimo en el año 2019 y compare con el dato real 102.68.\n",
    "\n",
    "¿Cuál polinomio estima mejor este dato? ¿Es el polinomio que mejor se ajusta? Concluya."
   ]
  },
  {
   "cell_type": "code",
   "execution_count": 47,
   "metadata": {},
   "outputs": [
    {
     "data": {
      "text/html": [
       "<div>\n",
       "<style scoped>\n",
       "    .dataframe tbody tr th:only-of-type {\n",
       "        vertical-align: middle;\n",
       "    }\n",
       "\n",
       "    .dataframe tbody tr th {\n",
       "        vertical-align: top;\n",
       "    }\n",
       "\n",
       "    .dataframe thead th {\n",
       "        text-align: right;\n",
       "    }\n",
       "</style>\n",
       "<table border=\"1\" class=\"dataframe\">\n",
       "  <thead>\n",
       "    <tr style=\"text-align: right;\">\n",
       "      <th></th>\n",
       "      <th>Periodo</th>\n",
       "      <th>Salario</th>\n",
       "      <th>Periodo 2</th>\n",
       "      <th>Unnamed: 3</th>\n",
       "      <th>Unnamed: 4</th>\n",
       "      <th>Unnamed: 5</th>\n",
       "      <th>Unnamed: 6</th>\n",
       "    </tr>\n",
       "  </thead>\n",
       "  <tbody>\n",
       "    <tr>\n",
       "      <th>0</th>\n",
       "      <td>1988.25</td>\n",
       "      <td>8.00</td>\n",
       "      <td>0.00</td>\n",
       "      <td>NaN</td>\n",
       "      <td>NaN</td>\n",
       "      <td>NaN</td>\n",
       "      <td>1988</td>\n",
       "    </tr>\n",
       "    <tr>\n",
       "      <th>1</th>\n",
       "      <td>1989.00</td>\n",
       "      <td>8.64</td>\n",
       "      <td>1.00</td>\n",
       "      <td>NaN</td>\n",
       "      <td>NaN</td>\n",
       "      <td>NaN</td>\n",
       "      <td>1988</td>\n",
       "    </tr>\n",
       "    <tr>\n",
       "      <th>2</th>\n",
       "      <td>1989.50</td>\n",
       "      <td>9.16</td>\n",
       "      <td>1.50</td>\n",
       "      <td>NaN</td>\n",
       "      <td>NaN</td>\n",
       "      <td>NaN</td>\n",
       "      <td>1988</td>\n",
       "    </tr>\n",
       "    <tr>\n",
       "      <th>3</th>\n",
       "      <td>1990.00</td>\n",
       "      <td>10.08</td>\n",
       "      <td>2.00</td>\n",
       "      <td>NaN</td>\n",
       "      <td>NaN</td>\n",
       "      <td>NaN</td>\n",
       "      <td>1988</td>\n",
       "    </tr>\n",
       "    <tr>\n",
       "      <th>4</th>\n",
       "      <td>1990.84</td>\n",
       "      <td>11.90</td>\n",
       "      <td>2.84</td>\n",
       "      <td>NaN</td>\n",
       "      <td>NaN</td>\n",
       "      <td>NaN</td>\n",
       "      <td>1988</td>\n",
       "    </tr>\n",
       "    <tr>\n",
       "      <th>5</th>\n",
       "      <td>1991.84</td>\n",
       "      <td>13.33</td>\n",
       "      <td>3.84</td>\n",
       "      <td>NaN</td>\n",
       "      <td>NaN</td>\n",
       "      <td>NaN</td>\n",
       "      <td>1988</td>\n",
       "    </tr>\n",
       "    <tr>\n",
       "      <th>6</th>\n",
       "      <td>1993.00</td>\n",
       "      <td>14.27</td>\n",
       "      <td>5.00</td>\n",
       "      <td>NaN</td>\n",
       "      <td>NaN</td>\n",
       "      <td>NaN</td>\n",
       "      <td>1988</td>\n",
       "    </tr>\n",
       "    <tr>\n",
       "      <th>7</th>\n",
       "      <td>1994.00</td>\n",
       "      <td>15.27</td>\n",
       "      <td>6.00</td>\n",
       "      <td>NaN</td>\n",
       "      <td>NaN</td>\n",
       "      <td>NaN</td>\n",
       "      <td>1988</td>\n",
       "    </tr>\n",
       "    <tr>\n",
       "      <th>8</th>\n",
       "      <td>1995.00</td>\n",
       "      <td>16.34</td>\n",
       "      <td>7.00</td>\n",
       "      <td>NaN</td>\n",
       "      <td>NaN</td>\n",
       "      <td>NaN</td>\n",
       "      <td>1988</td>\n",
       "    </tr>\n",
       "    <tr>\n",
       "      <th>9</th>\n",
       "      <td>1995.30</td>\n",
       "      <td>18.30</td>\n",
       "      <td>7.30</td>\n",
       "      <td>NaN</td>\n",
       "      <td>NaN</td>\n",
       "      <td>NaN</td>\n",
       "      <td>1988</td>\n",
       "    </tr>\n",
       "    <tr>\n",
       "      <th>10</th>\n",
       "      <td>1996.00</td>\n",
       "      <td>20.15</td>\n",
       "      <td>8.00</td>\n",
       "      <td>NaN</td>\n",
       "      <td>NaN</td>\n",
       "      <td>NaN</td>\n",
       "      <td>1988</td>\n",
       "    </tr>\n",
       "    <tr>\n",
       "      <th>11</th>\n",
       "      <td>1996.30</td>\n",
       "      <td>22.60</td>\n",
       "      <td>8.30</td>\n",
       "      <td>NaN</td>\n",
       "      <td>NaN</td>\n",
       "      <td>NaN</td>\n",
       "      <td>1988</td>\n",
       "    </tr>\n",
       "    <tr>\n",
       "      <th>12</th>\n",
       "      <td>1997.00</td>\n",
       "      <td>26.45</td>\n",
       "      <td>9.00</td>\n",
       "      <td>NaN</td>\n",
       "      <td>NaN</td>\n",
       "      <td>NaN</td>\n",
       "      <td>1988</td>\n",
       "    </tr>\n",
       "    <tr>\n",
       "      <th>13</th>\n",
       "      <td>1998.00</td>\n",
       "      <td>30.20</td>\n",
       "      <td>10.00</td>\n",
       "      <td>NaN</td>\n",
       "      <td>NaN</td>\n",
       "      <td>NaN</td>\n",
       "      <td>1988</td>\n",
       "    </tr>\n",
       "    <tr>\n",
       "      <th>14</th>\n",
       "      <td>1999.00</td>\n",
       "      <td>34.45</td>\n",
       "      <td>11.00</td>\n",
       "      <td>NaN</td>\n",
       "      <td>NaN</td>\n",
       "      <td>NaN</td>\n",
       "      <td>1988</td>\n",
       "    </tr>\n",
       "    <tr>\n",
       "      <th>15</th>\n",
       "      <td>2000.00</td>\n",
       "      <td>37.90</td>\n",
       "      <td>12.00</td>\n",
       "      <td>NaN</td>\n",
       "      <td>NaN</td>\n",
       "      <td>NaN</td>\n",
       "      <td>1988</td>\n",
       "    </tr>\n",
       "    <tr>\n",
       "      <th>16</th>\n",
       "      <td>2001.00</td>\n",
       "      <td>40.35</td>\n",
       "      <td>13.00</td>\n",
       "      <td>NaN</td>\n",
       "      <td>NaN</td>\n",
       "      <td>NaN</td>\n",
       "      <td>1988</td>\n",
       "    </tr>\n",
       "    <tr>\n",
       "      <th>17</th>\n",
       "      <td>2002.00</td>\n",
       "      <td>42.15</td>\n",
       "      <td>14.00</td>\n",
       "      <td>NaN</td>\n",
       "      <td>NaN</td>\n",
       "      <td>NaN</td>\n",
       "      <td>1988</td>\n",
       "    </tr>\n",
       "    <tr>\n",
       "      <th>18</th>\n",
       "      <td>2003.00</td>\n",
       "      <td>43.65</td>\n",
       "      <td>15.00</td>\n",
       "      <td>NaN</td>\n",
       "      <td>NaN</td>\n",
       "      <td>NaN</td>\n",
       "      <td>1988</td>\n",
       "    </tr>\n",
       "    <tr>\n",
       "      <th>19</th>\n",
       "      <td>2004.00</td>\n",
       "      <td>45.24</td>\n",
       "      <td>16.00</td>\n",
       "      <td>NaN</td>\n",
       "      <td>NaN</td>\n",
       "      <td>NaN</td>\n",
       "      <td>1988</td>\n",
       "    </tr>\n",
       "    <tr>\n",
       "      <th>20</th>\n",
       "      <td>2005.00</td>\n",
       "      <td>46.80</td>\n",
       "      <td>17.00</td>\n",
       "      <td>NaN</td>\n",
       "      <td>NaN</td>\n",
       "      <td>NaN</td>\n",
       "      <td>1988</td>\n",
       "    </tr>\n",
       "    <tr>\n",
       "      <th>21</th>\n",
       "      <td>2006.00</td>\n",
       "      <td>48.67</td>\n",
       "      <td>18.00</td>\n",
       "      <td>NaN</td>\n",
       "      <td>NaN</td>\n",
       "      <td>NaN</td>\n",
       "      <td>1988</td>\n",
       "    </tr>\n",
       "    <tr>\n",
       "      <th>22</th>\n",
       "      <td>2007.00</td>\n",
       "      <td>50.57</td>\n",
       "      <td>19.00</td>\n",
       "      <td>NaN</td>\n",
       "      <td>NaN</td>\n",
       "      <td>NaN</td>\n",
       "      <td>1988</td>\n",
       "    </tr>\n",
       "    <tr>\n",
       "      <th>23</th>\n",
       "      <td>2008.00</td>\n",
       "      <td>52.59</td>\n",
       "      <td>20.00</td>\n",
       "      <td>NaN</td>\n",
       "      <td>NaN</td>\n",
       "      <td>NaN</td>\n",
       "      <td>1988</td>\n",
       "    </tr>\n",
       "    <tr>\n",
       "      <th>24</th>\n",
       "      <td>2009.00</td>\n",
       "      <td>54.80</td>\n",
       "      <td>21.00</td>\n",
       "      <td>NaN</td>\n",
       "      <td>NaN</td>\n",
       "      <td>NaN</td>\n",
       "      <td>1988</td>\n",
       "    </tr>\n",
       "    <tr>\n",
       "      <th>25</th>\n",
       "      <td>2010.00</td>\n",
       "      <td>57.46</td>\n",
       "      <td>22.00</td>\n",
       "      <td>NaN</td>\n",
       "      <td>NaN</td>\n",
       "      <td>NaN</td>\n",
       "      <td>1988</td>\n",
       "    </tr>\n",
       "    <tr>\n",
       "      <th>26</th>\n",
       "      <td>2011.00</td>\n",
       "      <td>59.82</td>\n",
       "      <td>23.00</td>\n",
       "      <td>NaN</td>\n",
       "      <td>NaN</td>\n",
       "      <td>NaN</td>\n",
       "      <td>1988</td>\n",
       "    </tr>\n",
       "    <tr>\n",
       "      <th>27</th>\n",
       "      <td>2012.00</td>\n",
       "      <td>62.33</td>\n",
       "      <td>24.00</td>\n",
       "      <td>NaN</td>\n",
       "      <td>NaN</td>\n",
       "      <td>NaN</td>\n",
       "      <td>1988</td>\n",
       "    </tr>\n",
       "    <tr>\n",
       "      <th>28</th>\n",
       "      <td>2013.00</td>\n",
       "      <td>64.76</td>\n",
       "      <td>25.00</td>\n",
       "      <td>NaN</td>\n",
       "      <td>NaN</td>\n",
       "      <td>NaN</td>\n",
       "      <td>1988</td>\n",
       "    </tr>\n",
       "    <tr>\n",
       "      <th>29</th>\n",
       "      <td>2014.00</td>\n",
       "      <td>67.29</td>\n",
       "      <td>26.00</td>\n",
       "      <td>NaN</td>\n",
       "      <td>NaN</td>\n",
       "      <td>NaN</td>\n",
       "      <td>1988</td>\n",
       "    </tr>\n",
       "    <tr>\n",
       "      <th>30</th>\n",
       "      <td>2015.00</td>\n",
       "      <td>70.10</td>\n",
       "      <td>27.00</td>\n",
       "      <td>NaN</td>\n",
       "      <td>NaN</td>\n",
       "      <td>NaN</td>\n",
       "      <td>1988</td>\n",
       "    </tr>\n",
       "    <tr>\n",
       "      <th>31</th>\n",
       "      <td>2016.00</td>\n",
       "      <td>73.04</td>\n",
       "      <td>28.00</td>\n",
       "      <td>NaN</td>\n",
       "      <td>NaN</td>\n",
       "      <td>NaN</td>\n",
       "      <td>1988</td>\n",
       "    </tr>\n",
       "    <tr>\n",
       "      <th>32</th>\n",
       "      <td>2017.00</td>\n",
       "      <td>80.04</td>\n",
       "      <td>29.00</td>\n",
       "      <td>NaN</td>\n",
       "      <td>NaN</td>\n",
       "      <td>NaN</td>\n",
       "      <td>1988</td>\n",
       "    </tr>\n",
       "    <tr>\n",
       "      <th>33</th>\n",
       "      <td>2018.00</td>\n",
       "      <td>88.36</td>\n",
       "      <td>30.00</td>\n",
       "      <td>NaN</td>\n",
       "      <td>NaN</td>\n",
       "      <td>NaN</td>\n",
       "      <td>1988</td>\n",
       "    </tr>\n",
       "  </tbody>\n",
       "</table>\n",
       "</div>"
      ],
      "text/plain": [
       "    Periodo  Salario  Periodo 2  Unnamed: 3  Unnamed: 4  Unnamed: 5  \\\n",
       "0   1988.25     8.00       0.00         NaN         NaN         NaN   \n",
       "1   1989.00     8.64       1.00         NaN         NaN         NaN   \n",
       "2   1989.50     9.16       1.50         NaN         NaN         NaN   \n",
       "3   1990.00    10.08       2.00         NaN         NaN         NaN   \n",
       "4   1990.84    11.90       2.84         NaN         NaN         NaN   \n",
       "5   1991.84    13.33       3.84         NaN         NaN         NaN   \n",
       "6   1993.00    14.27       5.00         NaN         NaN         NaN   \n",
       "7   1994.00    15.27       6.00         NaN         NaN         NaN   \n",
       "8   1995.00    16.34       7.00         NaN         NaN         NaN   \n",
       "9   1995.30    18.30       7.30         NaN         NaN         NaN   \n",
       "10  1996.00    20.15       8.00         NaN         NaN         NaN   \n",
       "11  1996.30    22.60       8.30         NaN         NaN         NaN   \n",
       "12  1997.00    26.45       9.00         NaN         NaN         NaN   \n",
       "13  1998.00    30.20      10.00         NaN         NaN         NaN   \n",
       "14  1999.00    34.45      11.00         NaN         NaN         NaN   \n",
       "15  2000.00    37.90      12.00         NaN         NaN         NaN   \n",
       "16  2001.00    40.35      13.00         NaN         NaN         NaN   \n",
       "17  2002.00    42.15      14.00         NaN         NaN         NaN   \n",
       "18  2003.00    43.65      15.00         NaN         NaN         NaN   \n",
       "19  2004.00    45.24      16.00         NaN         NaN         NaN   \n",
       "20  2005.00    46.80      17.00         NaN         NaN         NaN   \n",
       "21  2006.00    48.67      18.00         NaN         NaN         NaN   \n",
       "22  2007.00    50.57      19.00         NaN         NaN         NaN   \n",
       "23  2008.00    52.59      20.00         NaN         NaN         NaN   \n",
       "24  2009.00    54.80      21.00         NaN         NaN         NaN   \n",
       "25  2010.00    57.46      22.00         NaN         NaN         NaN   \n",
       "26  2011.00    59.82      23.00         NaN         NaN         NaN   \n",
       "27  2012.00    62.33      24.00         NaN         NaN         NaN   \n",
       "28  2013.00    64.76      25.00         NaN         NaN         NaN   \n",
       "29  2014.00    67.29      26.00         NaN         NaN         NaN   \n",
       "30  2015.00    70.10      27.00         NaN         NaN         NaN   \n",
       "31  2016.00    73.04      28.00         NaN         NaN         NaN   \n",
       "32  2017.00    80.04      29.00         NaN         NaN         NaN   \n",
       "33  2018.00    88.36      30.00         NaN         NaN         NaN   \n",
       "\n",
       "    Unnamed: 6  \n",
       "0         1988  \n",
       "1         1988  \n",
       "2         1988  \n",
       "3         1988  \n",
       "4         1988  \n",
       "5         1988  \n",
       "6         1988  \n",
       "7         1988  \n",
       "8         1988  \n",
       "9         1988  \n",
       "10        1988  \n",
       "11        1988  \n",
       "12        1988  \n",
       "13        1988  \n",
       "14        1988  \n",
       "15        1988  \n",
       "16        1988  \n",
       "17        1988  \n",
       "18        1988  \n",
       "19        1988  \n",
       "20        1988  \n",
       "21        1988  \n",
       "22        1988  \n",
       "23        1988  \n",
       "24        1988  \n",
       "25        1988  \n",
       "26        1988  \n",
       "27        1988  \n",
       "28        1988  \n",
       "29        1988  \n",
       "30        1988  \n",
       "31        1988  \n",
       "32        1988  \n",
       "33        1988  "
      ]
     },
     "execution_count": 47,
     "metadata": {},
     "output_type": "execute_result"
    }
   ],
   "source": [
    "import pandas as pd\n",
    "import numpy as np\n",
    "import matplotlib.pyplot as plt\n",
    "import scipy.optimize as opt\n",
    "datos=pd.read_csv(\"Salarios_minimos.csv\")\n",
    "datos\n",
    "\n"
   ]
  },
  {
   "cell_type": "code",
   "execution_count": 49,
   "metadata": {},
   "outputs": [],
   "source": [
    "x=datos[\"Periodo 2\"]\n",
    "y=datos[\"Salario\"]"
   ]
  },
  {
   "cell_type": "markdown",
   "metadata": {},
   "source": [
    "### Para $x$"
   ]
  },
  {
   "cell_type": "code",
   "execution_count": 55,
   "metadata": {},
   "outputs": [
    {
     "data": {
      "text/plain": [
       "  message: Optimization terminated successfully.\n",
       "  success: True\n",
       "   status: 0\n",
       "      fun: 281.8567395263168\n",
       "        x: [ 3.785e+00  2.525e+00]\n",
       "      nit: 5\n",
       "      jac: [ 0.000e+00  3.815e-06]\n",
       " hess_inv: [[ 5.121e-02 -2.576e-03]\n",
       "            [-2.576e-03  1.818e-04]]\n",
       "     nfev: 21\n",
       "     njev: 7"
      ]
     },
     "execution_count": 55,
     "metadata": {},
     "output_type": "execute_result"
    }
   ],
   "source": [
    "#Hacer la regresion lineal\n",
    "n=len(y)\n",
    "ones=np.ones([n,1])\n",
    "x_factor=np.reshape(x,[n,1])\n",
    "X=np.hstack((ones,x_factor)) \n",
    "y_vector=np.reshape(y, [n,1]) #y pasa a ser columna de 1 y x\n",
    "\n",
    "n,p=X.shape #n filas, p paramertos\n",
    "beta=np.random.rand(p) # empezar a encontrar valores\n",
    "\n",
    "def funcion(beta, X, y): \n",
    "    beta=np.reshape(beta, [p,1])\n",
    "    y_pre=X@beta\n",
    "    error=y_pre-y\n",
    "    rss=error.T@error\n",
    "    return rss[0, 0]\n",
    "rss=opt.minimize(funcion, beta, args=(X, y_vector))\n",
    "rss"
   ]
  },
  {
   "cell_type": "markdown",
   "metadata": {},
   "source": [
    "### Para $x^2$"
   ]
  },
  {
   "cell_type": "code",
   "execution_count": 93,
   "metadata": {},
   "outputs": [
    {
     "data": {
      "text/plain": [
       "0       0.0000\n",
       "1       1.0000\n",
       "2       2.2500\n",
       "3       4.0000\n",
       "4       8.0656\n",
       "5      14.7456\n",
       "6      25.0000\n",
       "7      36.0000\n",
       "8      49.0000\n",
       "9      53.2900\n",
       "10     64.0000\n",
       "11     68.8900\n",
       "12     81.0000\n",
       "13    100.0000\n",
       "14    121.0000\n",
       "15    144.0000\n",
       "16    169.0000\n",
       "17    196.0000\n",
       "18    225.0000\n",
       "19    256.0000\n",
       "20    289.0000\n",
       "21    324.0000\n",
       "22    361.0000\n",
       "23    400.0000\n",
       "24    441.0000\n",
       "25    484.0000\n",
       "26    529.0000\n",
       "27    576.0000\n",
       "28    625.0000\n",
       "29    676.0000\n",
       "30    729.0000\n",
       "31    784.0000\n",
       "32    841.0000\n",
       "33    900.0000\n",
       "Name: Periodo 2, dtype: float64"
      ]
     },
     "execution_count": 93,
     "metadata": {},
     "output_type": "execute_result"
    }
   ],
   "source": [
    "x=datos[\"Periodo 2\"]\n",
    "y=datos[\"Salario\"]\n",
    "x2=x**2\n",
    "x2"
   ]
  },
  {
   "cell_type": "markdown",
   "metadata": {},
   "source": [
    "### El gráfico no sé como hacerlo"
   ]
  },
  {
   "cell_type": "code",
   "execution_count": 96,
   "metadata": {},
   "outputs": [
    {
     "data": {
      "text/plain": [
       "  message: Optimization terminated successfully.\n",
       "  success: True\n",
       "   status: 0\n",
       "      fun: 261.3099109919554\n",
       "        x: [ 5.300e+00  2.200e+00  1.097e-02]\n",
       "      nit: 9\n",
       "      jac: [ 0.000e+00 -3.815e-06  0.000e+00]\n",
       " hess_inv: [[ 1.071e-01 -1.456e-02  4.047e-04]\n",
       "            [-1.456e-02  2.753e-03 -8.681e-05]\n",
       "            [ 4.047e-04 -8.681e-05  2.931e-06]]\n",
       "     nfev: 52\n",
       "     njev: 13"
      ]
     },
     "execution_count": 96,
     "metadata": {},
     "output_type": "execute_result"
    }
   ],
   "source": [
    "#Hacer la regresion lineal\n",
    "n=len(x)\n",
    "ones=np.ones([n,1])\n",
    "x_factor=np.reshape(x,[n,1])\n",
    "x_factor_2=np.reshape(x2,[n,1])\n",
    "X=np.hstack((ones,x_factor, x_factor_2)) \n",
    "y_vector=np.reshape(y, [n,1]) #y pasa a ser columna de 1 y x\n",
    "\n",
    "n,p=X.shape #n filas, p paramertos\n",
    "beta=np.random.rand(p) # empezar a encontrar valores\n",
    "\n",
    "def funcion(beta, X, y): \n",
    "    beta=np.reshape(beta, [p,1])\n",
    "    y_pre=X@beta\n",
    "    error=y_pre-y\n",
    "    rss=error.T@error\n",
    "    return rss[0, 0]\n",
    "rss=opt.minimize(funcion, beta, args=(X, y_vector))\n",
    "rss"
   ]
  },
  {
   "cell_type": "code",
   "execution_count": 48,
   "metadata": {},
   "outputs": [
    {
     "data": {
      "text/plain": [
       "(5.3585503817565865, 0.9484194613085786)"
      ]
     },
     "execution_count": 48,
     "metadata": {},
     "output_type": "execute_result"
    }
   ],
   "source": [
    "RSE= np.sqrt(rss.fun/(n-2))\n",
    "TSS=np.sum((y-np.mean(y))**2)\n",
    "R2=1-(rss.fun/TSS)\n",
    "RSE, R2"
   ]
  },
  {
   "cell_type": "code",
   "execution_count": 50,
   "metadata": {},
   "outputs": [
    {
     "data": {
      "text/plain": [
       "(array([[ 2.73888869e+09, -2.73504608e+06,  6.82788404e+02],\n",
       "        [-2.73504608e+06,  2.73121931e+03, -6.81835685e-01],\n",
       "        [ 6.82788404e+02, -6.81835685e-01,  1.70217632e-04]]),\n",
       " array([5.23343930e+04, 5.22610688e+01, 1.30467479e-02]))"
      ]
     },
     "execution_count": 50,
     "metadata": {},
     "output_type": "execute_result"
    }
   ],
   "source": [
    "var_beta=np.linalg.inv(X.T@X)*RSE**2\n",
    "std_beta=np.sqrt(var_beta.diagonal())\n",
    "var_beta, std_beta"
   ]
  },
  {
   "cell_type": "code",
   "execution_count": 54,
   "metadata": {},
   "outputs": [
    {
     "data": {
      "text/plain": [
       "(array([-0.02605655, -0.01594345,  0.05866007]),\n",
       " 0.9793740524540839,\n",
       " 0.9873785000378128,\n",
       " 0.9535876605597)"
      ]
     },
     "execution_count": 54,
     "metadata": {},
     "output_type": "execute_result"
    }
   ],
   "source": [
    "t=rss.x/std_beta\n",
    "p_0=2*(1-stats.t.cdf(np.abs(t[0]), n-2))\n",
    "p_1=2*(1-stats.t.cdf(np.abs(t[1]), n-2))\n",
    "p_2=2*(1-stats.t.cdf(np.abs(t[2]), n-2))\n",
    "t, p_0, p_1, p_2"
   ]
  },
  {
   "cell_type": "markdown",
   "metadata": {},
   "source": [
    "### Para $x^3$"
   ]
  },
  {
   "cell_type": "code",
   "execution_count": 118,
   "metadata": {},
   "outputs": [
    {
     "data": {
      "text/plain": [
       "0         0.000000\n",
       "1         1.000000\n",
       "2         3.375000\n",
       "3         8.000000\n",
       "4        22.906304\n",
       "5        56.623104\n",
       "6       125.000000\n",
       "7       216.000000\n",
       "8       343.000000\n",
       "9       389.017000\n",
       "10      512.000000\n",
       "11      571.787000\n",
       "12      729.000000\n",
       "13     1000.000000\n",
       "14     1331.000000\n",
       "15     1728.000000\n",
       "16     2197.000000\n",
       "17     2744.000000\n",
       "18     3375.000000\n",
       "19     4096.000000\n",
       "20     4913.000000\n",
       "21     5832.000000\n",
       "22     6859.000000\n",
       "23     8000.000000\n",
       "24     9261.000000\n",
       "25    10648.000000\n",
       "26    12167.000000\n",
       "27    13824.000000\n",
       "28    15625.000000\n",
       "29    17576.000000\n",
       "30    19683.000000\n",
       "31    21952.000000\n",
       "32    24389.000000\n",
       "33    27000.000000\n",
       "Name: Periodo 2, dtype: float64"
      ]
     },
     "execution_count": 118,
     "metadata": {},
     "output_type": "execute_result"
    }
   ],
   "source": [
    "x=datos[\"Periodo 2\"]\n",
    "y=datos[\"Salario\"]\n",
    "x3=x**3\n",
    "x3"
   ]
  },
  {
   "cell_type": "code",
   "execution_count": 120,
   "metadata": {},
   "outputs": [
    {
     "data": {
      "text/plain": [
       "  message: Desired error not necessarily achieved due to precision loss.\n",
       "  success: False\n",
       "   status: 2\n",
       "      fun: 258.06819997398634\n",
       "        x: [ 4.661e+00  2.482e+00 -1.335e-02  5.473e-04]\n",
       "      nit: 10\n",
       "      jac: [ 0.000e+00  0.000e+00  0.000e+00 -3.052e-05]\n",
       " hess_inv: [[ 8.568e-02 -2.137e-02  1.416e-03 -2.728e-05]\n",
       "            [-2.137e-02  9.821e-03 -8.025e-04  1.723e-05]\n",
       "            [ 1.416e-03 -8.025e-04  7.170e-05 -1.622e-06]\n",
       "            [-2.728e-05  1.723e-05 -1.622e-06  3.795e-08]]\n",
       "     nfev: 199\n",
       "     njev: 38"
      ]
     },
     "execution_count": 120,
     "metadata": {},
     "output_type": "execute_result"
    }
   ],
   "source": [
    "#Hacer la regresion lineal\n",
    "n=len(x)\n",
    "ones=np.ones([n,1])\n",
    "x_factor=np.reshape(x,[n,1])\n",
    "x_factor_2=np.reshape(x2,[n,1])\n",
    "x_factor_3=np.reshape(x3,[n,1])\n",
    "X=np.hstack((ones,x_factor, x_factor_2, x_factor_3)) \n",
    "y_vector=np.reshape(y, [n,1]) #y pasa a ser columna de 1 y x\n",
    "\n",
    "n,p=X.shape #n filas, p paramertos\n",
    "beta=np.random.rand(p) # empezar a encontrar valores\n",
    "\n",
    "def funcion(beta, X, y): \n",
    "    beta=np.reshape(beta, [p,1])\n",
    "    y_pre=X@beta\n",
    "    error=y_pre-y\n",
    "    rss=error.T@error\n",
    "    return rss\n",
    "rss=opt.minimize(funcion, beta, args=(X, y_vector))\n",
    "rss"
   ]
  },
  {
   "cell_type": "markdown",
   "metadata": {},
   "source": [
    "## Cuarto punto. Regresión logística.\n",
    "\n",
    "**Enunciado**. Ximena vive un poco alejada de la universidad donde estudia y quiere asegurarse de siempre llegar a tiempo. Ha estado registrando la hora a la que sale como minutos relativos a las 7 am. I.e. $x=25$ serían 25 minutos **después** de las 7 am, y $x=-15$ serían 15 minutos **antes** de las 7 am. Además, también registra si llega a tiempo o no. ¿Qué es lo más tarde que puede salir de su casa para tener 70% de probabilidad de llegar a tiempo?\n",
    "\n"
   ]
  },
  {
   "cell_type": "code",
   "execution_count": 126,
   "metadata": {},
   "outputs": [
    {
     "data": {
      "text/html": [
       "<div>\n",
       "<style scoped>\n",
       "    .dataframe tbody tr th:only-of-type {\n",
       "        vertical-align: middle;\n",
       "    }\n",
       "\n",
       "    .dataframe tbody tr th {\n",
       "        vertical-align: top;\n",
       "    }\n",
       "\n",
       "    .dataframe thead th {\n",
       "        text-align: right;\n",
       "    }\n",
       "</style>\n",
       "<table border=\"1\" class=\"dataframe\">\n",
       "  <thead>\n",
       "    <tr style=\"text-align: right;\">\n",
       "      <th></th>\n",
       "      <th>minutos</th>\n",
       "      <th>a tiempo</th>\n",
       "    </tr>\n",
       "  </thead>\n",
       "  <tbody>\n",
       "    <tr>\n",
       "      <th>0</th>\n",
       "      <td>66.872267</td>\n",
       "      <td>n</td>\n",
       "    </tr>\n",
       "    <tr>\n",
       "      <th>1</th>\n",
       "      <td>8.820457</td>\n",
       "      <td>s</td>\n",
       "    </tr>\n",
       "    <tr>\n",
       "      <th>2</th>\n",
       "      <td>-1.616632</td>\n",
       "      <td>s</td>\n",
       "    </tr>\n",
       "    <tr>\n",
       "      <th>3</th>\n",
       "      <td>38.673966</td>\n",
       "      <td>n</td>\n",
       "    </tr>\n",
       "    <tr>\n",
       "      <th>4</th>\n",
       "      <td>2.889735</td>\n",
       "      <td>s</td>\n",
       "    </tr>\n",
       "    <tr>\n",
       "      <th>...</th>\n",
       "      <td>...</td>\n",
       "      <td>...</td>\n",
       "    </tr>\n",
       "    <tr>\n",
       "      <th>195</th>\n",
       "      <td>61.935480</td>\n",
       "      <td>n</td>\n",
       "    </tr>\n",
       "    <tr>\n",
       "      <th>196</th>\n",
       "      <td>-15.436279</td>\n",
       "      <td>s</td>\n",
       "    </tr>\n",
       "    <tr>\n",
       "      <th>197</th>\n",
       "      <td>-40.385927</td>\n",
       "      <td>s</td>\n",
       "    </tr>\n",
       "    <tr>\n",
       "      <th>198</th>\n",
       "      <td>-15.676668</td>\n",
       "      <td>s</td>\n",
       "    </tr>\n",
       "    <tr>\n",
       "      <th>199</th>\n",
       "      <td>-29.465456</td>\n",
       "      <td>s</td>\n",
       "    </tr>\n",
       "  </tbody>\n",
       "</table>\n",
       "<p>200 rows × 2 columns</p>\n",
       "</div>"
      ],
      "text/plain": [
       "       minutos a tiempo\n",
       "0    66.872267        n\n",
       "1     8.820457        s\n",
       "2    -1.616632        s\n",
       "3    38.673966        n\n",
       "4     2.889735        s\n",
       "..         ...      ...\n",
       "195  61.935480        n\n",
       "196 -15.436279        s\n",
       "197 -40.385927        s\n",
       "198 -15.676668        s\n",
       "199 -29.465456        s\n",
       "\n",
       "[200 rows x 2 columns]"
      ]
     },
     "execution_count": 126,
     "metadata": {},
     "output_type": "execute_result"
    }
   ],
   "source": [
    "import pandas as pd\n",
    "import numpy as np\n",
    "import matplotlib.pyplot as plt\n",
    "import scipy.optimize as opt\n",
    "datos=pd.read_csv(\"puntualidad.csv\")\n",
    "datos"
   ]
  },
  {
   "cell_type": "code",
   "execution_count": 128,
   "metadata": {},
   "outputs": [
    {
     "data": {
      "text/plain": [
       "0      n\n",
       "1      s\n",
       "2      s\n",
       "3      n\n",
       "4      s\n",
       "      ..\n",
       "195    n\n",
       "196    s\n",
       "197    s\n",
       "198    s\n",
       "199    s\n",
       "Name: a tiempo, Length: 200, dtype: category\n",
       "Categories (2, object): ['n', 's']"
      ]
     },
     "execution_count": 128,
     "metadata": {},
     "output_type": "execute_result"
    }
   ],
   "source": [
    "datos[\"a tiempo\"]=datos[\"a tiempo\"].astype(\"category\")\n",
    "datos[\"a tiempo\"]"
   ]
  },
  {
   "cell_type": "code",
   "execution_count": 130,
   "metadata": {},
   "outputs": [
    {
     "data": {
      "text/plain": [
       "0      0\n",
       "1      1\n",
       "2      1\n",
       "3      0\n",
       "4      1\n",
       "      ..\n",
       "195    0\n",
       "196    1\n",
       "197    1\n",
       "198    1\n",
       "199    1\n",
       "Name: num, Length: 200, dtype: category\n",
       "Categories (2, int64): [0, 1]"
      ]
     },
     "execution_count": 130,
     "metadata": {},
     "output_type": "execute_result"
    }
   ],
   "source": [
    "datos[\"num\"]=datos[\"a tiempo\"].map({\"s\":1, \"n\": 0})"
   ]
  },
  {
   "cell_type": "code",
   "execution_count": 138,
   "metadata": {},
   "outputs": [],
   "source": [
    "y=datos[\"num\"]\n",
    "x=datos[\"minutos\"]"
   ]
  },
  {
   "cell_type": "code",
   "execution_count": 140,
   "metadata": {},
   "outputs": [
    {
     "data": {
      "text/plain": [
       "  message: Optimization terminated successfully.\n",
       "  success: True\n",
       "   status: 0\n",
       "      fun: 59.71285501709966\n",
       "        x: [ 1.437e+00 -7.660e-02]\n",
       "      nit: 15\n",
       "      jac: [-4.292e-06  0.000e+00]\n",
       " hess_inv: [[ 8.647e-02 -1.846e-03]\n",
       "            [-1.846e-03  1.074e-04]]\n",
       "     nfev: 75\n",
       "     njev: 25"
      ]
     },
     "execution_count": 140,
     "metadata": {},
     "output_type": "execute_result"
    }
   ],
   "source": [
    "n=len(y)\n",
    "ones=np.ones([n, 1])\n",
    "min=np.reshape(datos[\"minutos\"], [n, 1])\n",
    "X=np.hstack((ones, min))\n",
    "y_vector=np.reshape(y, [n, 1])\n",
    "def prediccion(beta, X): # prediccion\n",
    "    return 1/(1+np.exp(-X@beta))\n",
    "def J(beta, X, y): # y va a comparar\n",
    "    epsilon=1e-45\n",
    "    n, p=X.shape\n",
    "    beta=np.reshape(beta,[p, 1])\n",
    "    y_pred=prediccion(beta, X)\n",
    "    e=y*np.log(y_pred+epsilon)+(1-y)*np.log(1-y_pred+epsilon)\n",
    "    return -np.sum(e)\n",
    "beta=[-10, -.0005]\n",
    "rrs=opt.minimize(J, beta, args=(X, y_vector))\n",
    "rrs"
   ]
  },
  {
   "cell_type": "code",
   "execution_count": null,
   "metadata": {},
   "outputs": [],
   "source": []
  }
 ],
 "metadata": {
  "kernelspec": {
   "display_name": "Python 3 (ipykernel)",
   "language": "python",
   "name": "python3"
  },
  "language_info": {
   "codemirror_mode": {
    "name": "ipython",
    "version": 3
   },
   "file_extension": ".py",
   "mimetype": "text/x-python",
   "name": "python",
   "nbconvert_exporter": "python",
   "pygments_lexer": "ipython3",
   "version": "3.12.4"
  }
 },
 "nbformat": 4,
 "nbformat_minor": 4
}
