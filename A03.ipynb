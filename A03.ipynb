{
  "metadata": {
    "kernelspec": {
      "name": "python",
      "display_name": "Python (Pyodide)",
      "language": "python"
    },
    "language_info": {
      "codemirror_mode": {
        "name": "python",
        "version": 3
      },
      "file_extension": ".py",
      "mimetype": "text/x-python",
      "name": "python",
      "nbconvert_exporter": "python",
      "pygments_lexer": "ipython3",
      "version": "3.8"
    }
  },
  "nbformat_minor": 4,
  "nbformat": 4,
  "cells": [
    {
      "cell_type": "markdown",
      "source": "# AO3 PYTHON",
      "metadata": {}
    },
    {
      "cell_type": "markdown",
      "source": "1. Toma el archivo datosCT.xlsx y\n    * calcula la Utilidad (Ingreso - Gasto)\n    * encuentra el promedio de Gastos en los meses que la Utilidad fue negativa\n    * encuentra los ingresos totales del año\n",
      "metadata": {}
    },
    {
      "cell_type": "code",
      "source": "",
      "metadata": {
        "trusted": true
      },
      "outputs": [],
      "execution_count": null
    },
    {
      "cell_type": "markdown",
      "source": "2. Crea las siguientes estructuras usando numpy:\n\nEncuentra el resultado de Ab",
      "metadata": {}
    },
    {
      "cell_type": "code",
      "source": "import numpy as np\n\nA = np.array([[1,2],\n              [3,4]])\n\nb = np.array([[2],\n              [4]])\n\nA @ b",
      "metadata": {
        "trusted": true
      },
      "outputs": [
        {
          "execution_count": 7,
          "output_type": "execute_result",
          "data": {
            "text/plain": "array([[10],\n       [22]])"
          },
          "metadata": {}
        }
      ],
      "execution_count": 7
    },
    {
      "cell_type": "code",
      "source": "",
      "metadata": {
        "trusted": true
      },
      "outputs": [],
      "execution_count": null
    },
    {
      "cell_type": "code",
      "source": "",
      "metadata": {
        "trusted": true
      },
      "outputs": [],
      "execution_count": null
    }
  ]
}