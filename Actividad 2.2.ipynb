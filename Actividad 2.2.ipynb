{
  "metadata": {
    "kernelspec": {
      "name": "python",
      "display_name": "Python (Pyodide)",
      "language": "python"
    },
    "language_info": {
      "codemirror_mode": {
        "name": "python",
        "version": 3
      },
      "file_extension": ".py",
      "mimetype": "text/x-python",
      "name": "python",
      "nbconvert_exporter": "python",
      "pygments_lexer": "ipython3",
      "version": "3.8"
    }
  },
  "nbformat_minor": 4,
  "nbformat": 4,
  "cells": [
    {
      "cell_type": "code",
      "source": "",
      "metadata": {
        "trusted": true
      },
      "outputs": [],
      "execution_count": null
    },
    {
      "cell_type": "markdown",
      "source": "1. Pasar a función el código de encontrar un número primo:",
      "metadata": {}
    },
    {
      "cell_type": "code",
      "source": "def esprimo(a):\n    if a <= 1:\n        return False\n    elif a <= 3:\n        return True\n    elif a % 2 == 0 or a % 3 == 0:\n        return False\n    else:\n        return False\n        i=5\n        while i * i <=a:\n            if numero %i ==0 or numero % (i + 2)== 0 :\n                return False\n                break\n            i += 6\n    if a:\n        return True\n    else:\n        return False",
      "metadata": {
        "trusted": true
      },
      "outputs": [],
      "execution_count": 1
    },
    {
      "cell_type": "markdown",
      "source": "2. Crear una función que ingrese un número a y que encuentre el numero primo mas cercano",
      "metadata": {}
    },
    {
      "cell_type": "code",
      "source": "def primo_mas_cercano(n):\n    if n<0 or n > 100:\n        return None\n\n    primos = [x for x in range (2, 101) if es_primo(x)]\n\n    if n < 2:\n        return primos[0]\n\n    m =  float ('inf')\n    c = None\n\n    for p in primos:\n        d = abs(p-n)\n        if d < m:\n            m= d\n            c = primo\n    return c",
      "metadata": {
        "trusted": true
      },
      "outputs": [],
      "execution_count": 2
    },
    {
      "cell_type": "code",
      "source": "def calcular_factorial(n):\n    if n < 0:\n        raise None\n\n    factorial = 1\n    i = 1\n\n    while i <=n:\n        factorial *= i \n        i += 1\n\n    return factorial\n\ndef factoriales (lista):\n    x = {}\n\n    for numero in lista:\n        if numero < 0:\n            x[numero] = None\n        else:\n            x[numero] = calcular_factorial(numero)\n\n    return x\n\nfactoriales1 =  factoriales (numeros)\n\nfor numero, factorial in factoriales1.items():\n    print (str(numero) +str(factorial))\n\nnumeros = [4,7,5,8,9,3]\n\n    ",
      "metadata": {
        "trusted": true
      },
      "outputs": [
        {
          "ename": "<class 'NameError'>",
          "evalue": "name 'numeros' is not defined",
          "traceback": [
            "\u001b[0;31m---------------------------------------------------------------------------\u001b[0m",
            "\u001b[0;31mNameError\u001b[0m                                 Traceback (most recent call last)",
            "Cell \u001b[0;32mIn[3], line 25\u001b[0m\n\u001b[1;32m     21\u001b[0m             x[numero] \u001b[38;5;241m=\u001b[39m calcular_factorial(numero)\n\u001b[1;32m     23\u001b[0m     \u001b[38;5;28;01mreturn\u001b[39;00m x\n\u001b[0;32m---> 25\u001b[0m factoriales1 \u001b[38;5;241m=\u001b[39m  factoriales (\u001b[43mnumeros\u001b[49m)\n\u001b[1;32m     27\u001b[0m \u001b[38;5;28;01mfor\u001b[39;00m numero, factorial \u001b[38;5;129;01min\u001b[39;00m factoriales1\u001b[38;5;241m.\u001b[39mitems():\n\u001b[1;32m     28\u001b[0m     \u001b[38;5;28mprint\u001b[39m (\u001b[38;5;28mstr\u001b[39m(numero) \u001b[38;5;241m+\u001b[39m\u001b[38;5;28mstr\u001b[39m(factorial))\n",
            "\u001b[0;31mNameError\u001b[0m: name 'numeros' is not defined"
          ],
          "output_type": "error"
        }
      ],
      "execution_count": 3
    },
    {
      "cell_type": "code",
      "source": "x = []\nfor i in range (1,101):\n    y = 3*i\n    x.append(y)\n\nprint (x)",
      "metadata": {
        "trusted": true
      },
      "outputs": [
        {
          "name": "stdout",
          "text": "[3, 6, 9, 12, 15, 18, 21, 24, 27, 30, 33, 36, 39, 42, 45, 48, 51, 54, 57, 60, 63, 66, 69, 72, 75, 78, 81, 84, 87, 90, 93, 96, 99, 102, 105, 108, 111, 114, 117, 120, 123, 126, 129, 132, 135, 138, 141, 144, 147, 150, 153, 156, 159, 162, 165, 168, 171, 174, 177, 180, 183, 186, 189, 192, 195, 198, 201, 204, 207, 210, 213, 216, 219, 222, 225, 228, 231, 234, 237, 240, 243, 246, 249, 252, 255, 258, 261, 264, 267, 270, 273, 276, 279, 282, 285, 288, 291, 294, 297, 300]\n",
          "output_type": "stream"
        }
      ],
      "execution_count": 4
    },
    {
      "cell_type": "code",
      "source": "",
      "metadata": {
        "trusted": true
      },
      "outputs": [],
      "execution_count": null
    }
  ]
}