{
  "metadata": {
    "kernelspec": {
      "name": "python",
      "display_name": "Python (Pyodide)",
      "language": "python"
    },
    "language_info": {
      "codemirror_mode": {
        "name": "python",
        "version": 3
      },
      "file_extension": ".py",
      "mimetype": "text/x-python",
      "name": "python",
      "nbconvert_exporter": "python",
      "pygments_lexer": "ipython3",
      "version": "3.8"
    }
  },
  "nbformat_minor": 4,
  "nbformat": 4,
  "cells": [
    {
      "cell_type": "markdown",
      "source": "# Repaso - Módulo 2\n---",
      "metadata": {}
    },
    {
      "cell_type": "markdown",
      "source": "\n## Evaluación numérica de integrales utilizando Montecarlo\nEscriba la función para integrar por el método Montecarlo de tipo 1",
      "metadata": {}
    },
    {
      "cell_type": "code",
      "source": "import numpy as np\ndef montecarlo_tipo1(f, a, b, n):\n    u = np.random.uniform(a, b, n)\n    return np.mean(f(u))*(b-a)",
      "metadata": {
        "trusted": true
      },
      "outputs": [],
      "execution_count": 11
    },
    {
      "cell_type": "code",
      "source": "",
      "metadata": {
        "trusted": true
      },
      "outputs": [],
      "execution_count": null
    },
    {
      "cell_type": "code",
      "source": "",
      "metadata": {
        "trusted": true
      },
      "outputs": [],
      "execution_count": null
    },
    {
      "cell_type": "markdown",
      "source": "Considere las funciones $f_1(x)=\\sqrt{1+x^{4}}$, $f_2(x)=\\ln(\\ln x)$, $f_3(x)=\\frac {1}{\\ln x}$, y $f_4(x)=e^{-{\\frac {x^{2}}{2}}}$.\n\nUtilizar la función anterior para realizar la evaluación numérica de las integrales de las funciones anteriores en el intervalo $(4,5)$. Poner los resultados en una tabla cuyas filas correspondan a la cantidad de términos utilizados en la aproximación (usar 10, 100, 1000, 10000 y 100000 términos) y cuyas columnas correspondan a las funciones.",
      "metadata": {
        "collapsed": true,
        "jupyter": {
          "outputs_hidden": true
        }
      }
    },
    {
      "cell_type": "code",
      "source": "def f1(x):\n    return np.sqrt(1 + x**4)\n\nmontecarlo_tipo1(f1, 4, 5, 1000)",
      "metadata": {
        "trusted": true
      },
      "outputs": [
        {
          "execution_count": 13,
          "output_type": "execute_result",
          "data": {
            "text/plain": "20.300758905049523"
          },
          "metadata": {}
        }
      ],
      "execution_count": 13
    },
    {
      "cell_type": "code",
      "source": "def f2(x):\n    return np.log(np.log(x))\n\nmontecarlo_tipo1(f2, 4, 5, 1000)",
      "metadata": {
        "trusted": true
      },
      "outputs": [
        {
          "execution_count": 16,
          "output_type": "execute_result",
          "data": {
            "text/plain": "0.40467880871039724"
          },
          "metadata": {}
        }
      ],
      "execution_count": 16
    },
    {
      "cell_type": "code",
      "source": "def f3(x):\n    return 1/np.log(x)\n\nmontecarlo_tipo1(f3, 4, 5, 1000)",
      "metadata": {
        "trusted": true
      },
      "outputs": [
        {
          "execution_count": 17,
          "output_type": "execute_result",
          "data": {
            "text/plain": "0.6684098488533552"
          },
          "metadata": {}
        }
      ],
      "execution_count": 17
    },
    {
      "cell_type": "code",
      "source": "def f4(x):\n    return np.exp(-x**2/2)\n\nmontecarlo_tipo1(f4, 4, 5, 1000)",
      "metadata": {
        "trusted": true
      },
      "outputs": [
        {
          "execution_count": 18,
          "output_type": "execute_result",
          "data": {
            "text/plain": "7.676592645469715e-05"
          },
          "metadata": {}
        }
      ],
      "execution_count": 18
    },
    {
      "cell_type": "markdown",
      "source": "## Montecarlo Tipo 2\nAproximar el área de la región descrita por\n\n$$x^2+2y^2\\leq-2x+8y-7$$\n\nPoner los resultados en una tabla cuyas filas correspondan a la cantidad de términos utilizados en la aproximación (usar 10, 100, 1000, 10000 y 100000 términos) y en las columnas el valor de aproximación y el error de integración.\n\n[A ~ 4.4]\n\nDefinir unos límites adecuados $a_1$, $b_1$, $a_2$ y $b_2$, para la región $R=\\left[a_1,b_1\\right]\\times\\left[a_2,b_2\\right]$ y grafíque esta región.",
      "metadata": {}
    },
    {
      "cell_type": "code",
      "source": "",
      "metadata": {},
      "outputs": [],
      "execution_count": null
    },
    {
      "cell_type": "code",
      "source": "",
      "metadata": {},
      "outputs": [],
      "execution_count": null
    },
    {
      "cell_type": "code",
      "source": "",
      "metadata": {},
      "outputs": [],
      "execution_count": null
    },
    {
      "cell_type": "markdown",
      "source": "---\n## Caminata aleatoria\n\n1. Lee el archivo `MSFT_2023.csv` en un DataFrame de pandas.\n",
      "metadata": {}
    },
    {
      "cell_type": "code",
      "source": "",
      "metadata": {},
      "outputs": [],
      "execution_count": null
    },
    {
      "cell_type": "code",
      "source": "",
      "metadata": {},
      "outputs": [],
      "execution_count": null
    },
    {
      "cell_type": "code",
      "source": "",
      "metadata": {},
      "outputs": [],
      "execution_count": null
    },
    {
      "cell_type": "markdown",
      "source": "El archivo contiene los datos de precio de cierre de la acción de Microsoft para el usuario promedio (no fines de semana ni dias feriados). El precio de una acción se considera una caminata aleatoria.\n\n2. Grafica la columna `Adj Close` (plot)",
      "metadata": {}
    },
    {
      "cell_type": "code",
      "source": "",
      "metadata": {},
      "outputs": [],
      "execution_count": null
    },
    {
      "cell_type": "code",
      "source": "",
      "metadata": {},
      "outputs": [],
      "execution_count": null
    },
    {
      "cell_type": "code",
      "source": "",
      "metadata": {},
      "outputs": [],
      "execution_count": null
    },
    {
      "cell_type": "markdown",
      "source": "3. Realiza un histograma de los datos.",
      "metadata": {}
    },
    {
      "cell_type": "code",
      "source": "",
      "metadata": {},
      "outputs": [],
      "execution_count": null
    },
    {
      "cell_type": "code",
      "source": "",
      "metadata": {},
      "outputs": [],
      "execution_count": null
    },
    {
      "cell_type": "code",
      "source": "",
      "metadata": {},
      "outputs": [],
      "execution_count": null
    },
    {
      "cell_type": "markdown",
      "source": "Los datos de acciones se comportan como variables aleatorias, sin una distribución que pueda describirlos con certeza.\n\n4. Aplica el teorema del límite central y agrupa los datos calculando su rendimiento:\n\n$$ R = \\frac{x_{i+1} - x_i}{x_i} $$\n\nEn otras palabras, calcula el cambio porcentual entre los días.",
      "metadata": {}
    },
    {
      "cell_type": "code",
      "source": "",
      "metadata": {},
      "outputs": [],
      "execution_count": null
    },
    {
      "cell_type": "code",
      "source": "",
      "metadata": {},
      "outputs": [],
      "execution_count": null
    },
    {
      "cell_type": "code",
      "source": "",
      "metadata": {},
      "outputs": [],
      "execution_count": null
    },
    {
      "cell_type": "markdown",
      "source": "5. Realiza un histograma de los rendimientos calculados.",
      "metadata": {}
    },
    {
      "cell_type": "code",
      "source": "",
      "metadata": {},
      "outputs": [],
      "execution_count": null
    },
    {
      "cell_type": "code",
      "source": "",
      "metadata": {},
      "outputs": [],
      "execution_count": null
    },
    {
      "cell_type": "code",
      "source": "",
      "metadata": {},
      "outputs": [],
      "execution_count": null
    },
    {
      "cell_type": "markdown",
      "source": "Los rendimientos, al ser una agrupación de una distribución (por teorema del límite central) se parecen un poco más a una distribución normal. Idealmente se haría una prueba de hipótesis para comprobar que sí son normales los datos, pero por el momento asumamos que sí lo son.\n\n6. Extrae la media y la desviación estándar de los rendimientos.",
      "metadata": {}
    },
    {
      "cell_type": "code",
      "source": "",
      "metadata": {},
      "outputs": [],
      "execution_count": null
    },
    {
      "cell_type": "code",
      "source": "",
      "metadata": {},
      "outputs": [],
      "execution_count": null
    },
    {
      "cell_type": "code",
      "source": "",
      "metadata": {},
      "outputs": [],
      "execution_count": null
    },
    {
      "cell_type": "markdown",
      "source": "7. Simula 30 días de rendimientos (toma muestras aleatorias de una distribución normal con las características extraídas) 10,000 veces. Suma un 1 a todos los valores para considerar el 100\\% inicial. (30 renglones, 10000 columnas)",
      "metadata": {}
    },
    {
      "cell_type": "code",
      "source": "",
      "metadata": {},
      "outputs": [],
      "execution_count": null
    },
    {
      "cell_type": "code",
      "source": "",
      "metadata": {},
      "outputs": [],
      "execution_count": null
    },
    {
      "cell_type": "code",
      "source": "",
      "metadata": {},
      "outputs": [],
      "execution_count": null
    },
    {
      "cell_type": "markdown",
      "source": "Si se empieza con el 100\\% del precio de la acción, el precio de ésta cambiaría día con día dados los rendimientos simulados:\n\n$$ c_1 = c_{0}r_1 $$\n\nY al día siguiente:\n\n$$ c_{2} = c_1 r_{2} = c_{0} r_1 r_{2} $$\n\nPasado mañana:\n\n$$ c_{3} = c_{2} r_{3} = c_{0} r_1 r_{2} r_3 $$\n\nSuponiendo un día 9:\n\n$$ c_9 = c_8 r_9 = c_0 r_1 r_2 r_3 r_4 r_5 r_6 r_7 r_8 r_9 $$\n\nPor lo que tenemos que acumular el producto de los rendimientos.",
      "metadata": {}
    },
    {
      "cell_type": "markdown",
      "source": "8. Utiliza el comando `cumprod` sobre las columnas de la matriz de `numpy` que contiene las simulaciones de los rendimientos. `obj.cumprod(axis=0)`",
      "metadata": {}
    },
    {
      "cell_type": "code",
      "source": "",
      "metadata": {},
      "outputs": [],
      "execution_count": null
    },
    {
      "cell_type": "code",
      "source": "",
      "metadata": {},
      "outputs": [],
      "execution_count": null
    },
    {
      "cell_type": "code",
      "source": "",
      "metadata": {},
      "outputs": [],
      "execution_count": null
    },
    {
      "cell_type": "markdown",
      "source": "9. Multiplica el precio de la acción del último día registrado en los datos iniciales de Microsoft por la matriz de rendimientos acumulados.",
      "metadata": {}
    },
    {
      "cell_type": "code",
      "source": "",
      "metadata": {},
      "outputs": [],
      "execution_count": null
    },
    {
      "cell_type": "code",
      "source": "",
      "metadata": {},
      "outputs": [],
      "execution_count": null
    },
    {
      "cell_type": "code",
      "source": "",
      "metadata": {},
      "outputs": [],
      "execution_count": null
    },
    {
      "cell_type": "markdown",
      "source": "Ahora tienes 10,000 simulaciones conservadoras (mientras se mantenga la misma tendencia en rendimientos) de precios de las acciones de Microsoft de un mes.\n\n10. En promedio, ¿cuánto valen las acciones de Microsoft en el día 30? [~397]",
      "metadata": {}
    },
    {
      "cell_type": "code",
      "source": "",
      "metadata": {},
      "outputs": [],
      "execution_count": null
    },
    {
      "cell_type": "code",
      "source": "",
      "metadata": {},
      "outputs": [],
      "execution_count": null
    },
    {
      "cell_type": "code",
      "source": "",
      "metadata": {},
      "outputs": [],
      "execution_count": null
    },
    {
      "cell_type": "markdown",
      "source": "11. ¿Cuál es la probabilidad de que el precio exceda 400? [~44\\%]",
      "metadata": {}
    },
    {
      "cell_type": "code",
      "source": "",
      "metadata": {},
      "outputs": [],
      "execution_count": null
    },
    {
      "cell_type": "code",
      "source": "",
      "metadata": {},
      "outputs": [],
      "execution_count": null
    },
    {
      "cell_type": "code",
      "source": "",
      "metadata": {},
      "outputs": [],
      "execution_count": null
    },
    {
      "cell_type": "markdown",
      "source": "## Probabilidad\n\nTienes una baraja de 50 cartas de 5 colores (10 cartas de cada color) con números del 1 al 10 (5 cartas de cada número). ¿Cuál es la probabilidad de que al tomar dos cartas al azar (sin reemplazo) las cartas no sean ni del mismo número ni del mismo color? [36/49]\n\n",
      "metadata": {}
    },
    {
      "cell_type": "code",
      "source": "",
      "metadata": {},
      "outputs": [],
      "execution_count": null
    },
    {
      "cell_type": "code",
      "source": "",
      "metadata": {},
      "outputs": [],
      "execution_count": null
    },
    {
      "cell_type": "code",
      "source": "",
      "metadata": {},
      "outputs": [],
      "execution_count": null
    }
  ]
}