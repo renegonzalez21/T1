{
  "metadata": {
    "kernelspec": {
      "name": "python",
      "display_name": "Python (Pyodide)",
      "language": "python"
    },
    "language_info": {
      "name": ""
    }
  },
  "nbformat_minor": 4,
  "nbformat": 4,
  "cells": [
    {
      "cell_type": "markdown",
      "source": "# La Ingeniería Civil y la importancia de la topografía",
      "metadata": {}
    },
    {
      "cell_type": "markdown",
      "source": "La ingenieria civil a grandes rasgos es la rama de la ingenieria encargada de hacer todo tipo de ***obras civiles*** asi como puentes, aeropuertos, carreteras, vias terrestres, presas, rascacielos o casas habitaciones.",
      "metadata": {}
    },
    {
      "cell_type": "markdown",
      "source": "## Las ramas de la Ingeniería Civil",
      "metadata": {}
    },
    {
      "cell_type": "markdown",
      "source": "Al ser una carrerra de gran amplitud en sus temas se dividen por diferentes ramas en las que se encuentran\n* Ingeniería estructural.\n* Ingeniería topografica\n* Ingeniería geotécnica.\n* Ingeniería hidráulica.\n* Ingeniería de transporte.\n* Ingeniería civil ambiental.\n* Ingeniería de construcción.\n* Ingeniería de materiales.\n* Ingeniería estructural sísmica.",
      "metadata": {}
    },
    {
      "cell_type": "markdown",
      "source": "### Ingeniería Topografica",
      "metadata": {}
    },
    {
      "cell_type": "markdown",
      "source": "La ingeniería ***topografica*** es muy importante ya que es la encargada del diseño, producción y evaluación de cartografía general o temática. Además diseñar, implementar y mantener un sistema de información geográfico con el terreno, la cual nos ayuda para poder planear de forma optima una construcción de principio a fin.",
      "metadata": {}
    },
    {
      "cell_type": "markdown",
      "source": "### Su importancia",
      "metadata": {}
    },
    {
      "cell_type": "markdown",
      "source": "La ***topografía*** es necesaria para cualquier proyecto de ingeniería, tanto en la fase de elaboración como en la de ejecución. Se emplea para medir solares para la compra-venta, actualizaciones catastrales, comparaciones con los planes urbanísticos, movimientos de tierras o elementos construidos, entre otros. Además, una vez que el trabajo se da por finalizado, los topógrafos son los encargados de ***corroborar*** que el trabajo realizado corresponde con el que se plasmó en el Proyecto Definitivo.\n\nA través de la topografía arquitectos e ingenieros ***describen*** y delinean detalladamente la superficie de un terreno. Es la ***técnica*** empleada por dichos profesionales para realizar un estudio del suelo donde se va a construir el nuevo edificio o vivienda, encajando el proyecto correctamente con las alineaciones existentes y evitando así problemas en la fase de construcción. Lo mismo ocurre con los proyectos de obra civil, ya sea la construcción de carreteras, caminos, conducciones, canalizaciones, balsas o explanadas, entre otros.",
      "metadata": {}
    },
    {
      "cell_type": "markdown",
      "source": "<img src=\"https://cards.algoreducation.com/_next/image?url=https%3A%2F%2Ffiles.algoreducation.com%2Fproduction-ts%2F__S3__15c496ab-1502-4b09-8837-13f97acfbf6d&w=3840&q=75\"/>",
      "metadata": {}
    },
    {
      "cell_type": "code",
      "source": "",
      "metadata": {
        "trusted": true
      },
      "outputs": [],
      "execution_count": null
    }
  ]
}