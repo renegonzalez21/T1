{
  "metadata": {
    "kernelspec": {
      "name": "python",
      "display_name": "Python (Pyodide)",
      "language": "python"
    },
    "language_info": {
      "name": ""
    }
  },
  "nbformat_minor": 4,
  "nbformat": 4,
  "cells": [
    {
      "cell_type": "markdown",
      "source": "# La Ingeniería Civil y la importancia de la topografía",
      "metadata": {}
    },
    {
      "cell_type": "markdown",
      "source": "La ingenieria civil a grandes rasgos es la rama de la ingenieria encargada de hacer todo tipo de ***obras civiles*** asi como puentes, aeropuertos, carreteras, vias terrestres, presas, rascacielos o casas habitaciones.",
      "metadata": {}
    },
    {
      "cell_type": "markdown",
      "source": "## Las ramas de la Ingeniería Civil",
      "metadata": {}
    },
    {
      "cell_type": "markdown",
      "source": "Al ser una carrerra de gran amplitud en sus temas se dividen por diferentes ramas en las que se encuentran\n* Ingeniería estructural.\n* Ingeniería topografica\n* Ingeniería geotécnica.\n* Ingeniería hidráulica.\n* Ingeniería de transporte.\n* Ingeniería civil ambiental.\n* Ingeniería de construcción.\n* Ingeniería de materiales.\n* Ingeniería estructural sísmica.",
      "metadata": {}
    },
    {
      "cell_type": "markdown",
      "source": "### Ingeniería Topografica",
      "metadata": {}
    },
    {
      "cell_type": "markdown",
      "source": "La ingeniería ***topografica*** es muy importante ya que es la encargada del diseño, producción y evaluación de cartografía general o temática. Además diseñar, implementar y mantener un sistema de información geográfico con el terreno, la cual nos ayuda para poder planear de forma optima una construcción de principio a fin.",
      "metadata": {}
    },
    {
      "cell_type": "markdown",
      "source": "#### Su importancia",
      "metadata": {}
    },
    {
      "cell_type": "markdown",
      "source": "La ***topografía*** es necesaria para cualquier proyecto de ingeniería, tanto en la fase de elaboración como en la de ejecución. Se emplea para medir solares para la compra-venta, actualizaciones catastrales, comparaciones con los planes urbanísticos, movimientos de tierras o elementos construidos, entre otros. Además, una vez que el trabajo se da por finalizado, los topógrafos son los encargados de ***corroborar*** que el trabajo realizado corresponde con el que se plasmó en el Proyecto Definitivo.\n\nA través de la topografía arquitectos e ingenieros ***describen*** y delinean detalladamente la superficie de un terreno. Es la ***técnica*** empleada por dichos profesionales para realizar un estudio del suelo donde se va a construir el nuevo edificio o vivienda, encajando el proyecto correctamente con las alineaciones existentes y evitando así problemas en la fase de construcción. Lo mismo ocurre con los proyectos de obra civil, ya sea la construcción de carreteras, caminos, conducciones, canalizaciones, balsas o explanadas, entre otros.",
      "metadata": {}
    },
    {
      "cell_type": "markdown",
      "source": "<img src=\"https://cards.algoreducation.com/_next/image?url=https%3A%2F%2Ffiles.algoreducation.com%2Fproduction-ts%2F__S3__15c496ab-1502-4b09-8837-13f97acfbf6d&w=3840&q=75\"/>",
      "metadata": {}
    },
    {
      "cell_type": "markdown",
      "source": "#### Areas de oportunidad en la carrera",
      "metadata": {}
    },
    {
      "cell_type": "markdown",
      "source": "1. **Topografía en Construcción:**\n    * Diseño y Supervisión de Obras: Implementación de técnicas topográficas en la __planificación__ y __supervisión__ de proyectos de construcción.\n    * Control de Calidad: Uso de herramientas topográficas para asegurar la __precisión__ en la construcción y la adecuación a los planos.\n2. **Tecnología de Medición Avanzada:**\n    * Uso de tecnología ***LIDAR*** para obtener datos detallados del _terreno_ y crear _modelos_ digitales precisos.\n    * Uso de Drones para los levantamientos topográficos _rápidos_ y _precisos_.\n3. **Modelado y Análisis de Datos:**   \n    * Modelado Digital del Terreno (***DTM***) y Modelado Digital de Superficie (***DSM***): Desarrollo de __modelos__ detallados para diversas aplicaciones.\n    * Análisis de Datos Geoespaciales: Aplicación de software de ***SIG*** (Sistemas de Información Geográfica) para el _análisis_ y _visualización_ de datos.\n4. **Ingeniería Civil y Ambiental:**\n    * Estudios de Impacto Ambiental: __Evaluación__ de cómo los proyectos de construcción afectan el terreno y el medio ambiente.\n    * Gestión de Recursos Hídricos: Aplicación de la topografía en la planificación y ***gestión*** de recursos hídricos.\n5. **Geodesia y Cartografía:**\n    * Actualización de Mapas: Realización de __levantamientos__ para la actualización de mapas y cartografía.\n    * Detección de Cambios en el Terreno: __Monitoreo__ de cambios en el terreno debido a fenómenos naturales o actividad humana.\n6. **Desarrollo Urbano y Planificación:**\n    * Planificación Urbana: Aplicación de datos topográficos para la planificación de nuevos desarrollos urbanos y rurales.\n    * Regeneración Urbana: Uso de técnicas topográficas para __revitalizar__ áreas urbanas existentes.\n7. **Seguridad y Prevención de Riesgos:**\n    * Monitoreo de Deslizamientos y Erosiones: Implementación de sistemas de monitoreo para __prevenir__ y __mitigar__ deslizamientos de tierra y otros riesgos geológicos.",
      "metadata": {}
    },
    {
      "cell_type": "markdown",
      "source": "#### Matematicas en la topografia",
      "metadata": {}
    },
    {
      "cell_type": "markdown",
      "source": "En la topografía son muy importantes la matemáticas, ya que el uso de diversas formulas y ecuaciones son de gran importancia debido a que estas nos ayudan a sacar volumenes, areas, radios, curvas de nivel, sacar datos relevantes del terreno, entre otros. A continuación se presetaran algunas de ellas.",
      "metadata": {}
    },
    {
      "cell_type": "markdown",
      "source": "##### **Cálculo de Distancias**",
      "metadata": {}
    },
    {
      "cell_type": "markdown",
      "source": " $$ b = \\sqrt{(x1 - x2)^2 + (y2 - y1)^2}$$",
      "metadata": {}
    },
    {
      "cell_type": "markdown",
      "source": "##### **Pendientes (porcetaje)**",
      "metadata": {}
    },
    {
      "cell_type": "markdown",
      "source": "$$ Pendientes(%) = (\\frac{\\delta z}{dh}) x 100 $$",
      "metadata": {}
    },
    {
      "cell_type": "code",
      "source": "",
      "metadata": {
        "trusted": true
      },
      "outputs": [],
      "execution_count": null
    },
    {
      "cell_type": "code",
      "source": "",
      "metadata": {
        "trusted": true
      },
      "outputs": [],
      "execution_count": null
    }
  ]
}