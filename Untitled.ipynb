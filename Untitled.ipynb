{
  "metadata": {
    "kernelspec": {
      "name": "python",
      "display_name": "Python (Pyodide)",
      "language": "python"
    },
    "language_info": {
      "codemirror_mode": {
        "name": "python",
        "version": 3
      },
      "file_extension": ".py",
      "mimetype": "text/x-python",
      "name": "python",
      "nbconvert_exporter": "python",
      "pygments_lexer": "ipython3",
      "version": "3.8"
    }
  },
  "nbformat_minor": 4,
  "nbformat": 4,
  "cells": [
    {
      "cell_type": "code",
      "source": "",
      "metadata": {
        "trusted": true
      },
      "outputs": [],
      "execution_count": null
    },
    {
      "cell_type": "markdown",
      "source": "1. Pasar a función el código de encontrar un número primo:",
      "metadata": {}
    },
    {
      "cell_type": "code",
      "source": "def esprimo(a):\n    if a <= 1:\n        return False\n    elif a <= 3:\n        return True\n    elif a % 2 == 0 or a % 3 == 0:\n        return False\n    else:\n        return False\n        i=5\n        while i * i <=a:\n            if numero %i ==0 or numero % (i + 2)== 0 :\n                return False\n                break\n            i += 6\n    if a:\n        return True\n    else:\n        return False",
      "metadata": {
        "trusted": true
      },
      "outputs": [],
      "execution_count": 1
    },
    {
      "cell_type": "markdown",
      "source": "2. Crear una función que ingrese un número a y que encuentre el numero primo mas cercano",
      "metadata": {}
    },
    {
      "cell_type": "code",
      "source": "def primo_mas_cercano(n):\n    if n<0 or n > 100:\n        return None\n\n    primos = [x for x in range (2, 101) if es_primo(x)]\n\n    if n < 2:\n        return primos[0]\n\n    m =  float ('inf')\n    c = None\n\n    for p in primos:\n        d = abs(p-n)\n        if d < m:\n            m= d\n            c = primo\n    return c",
      "metadata": {
        "trusted": true
      },
      "outputs": [],
      "execution_count": 2
    },
    {
      "cell_type": "code",
      "source": "def calcular_factorial(n):\n    if n < 0:\n        raise None\n\n    factorial = 1\n    i = 1\n\n    while i <=n:\n        factorial *= i \n        i += 1\n\n    return factorial\n\ndef factoriales (lista):\n    x = {}\n\n    for numero in lista:\n        if numero < 0:\n            x[numero] = None\n        else:\n            x[numero] = calcular_factorial(numero)\n\n    return x\n\nfactoriales1 =  factoriales (numeros)\n\nfor numero, factorial in factoriales1.items():\n    print (str\n\n    ",
      "metadata": {
        "trusted": true
      },
      "outputs": [],
      "execution_count": null
    }
  ]
}