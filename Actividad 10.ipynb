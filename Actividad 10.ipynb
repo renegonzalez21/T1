{
  "metadata": {
    "kernelspec": {
      "name": "python",
      "display_name": "Python (Pyodide)",
      "language": "python"
    },
    "language_info": {
      "codemirror_mode": {
        "name": "python",
        "version": 3
      },
      "file_extension": ".py",
      "mimetype": "text/x-python",
      "name": "python",
      "nbconvert_exporter": "python",
      "pygments_lexer": "ipython3",
      "version": "3.8"
    }
  },
  "nbformat_minor": 4,
  "nbformat": 4,
  "cells": [
    {
      "cell_type": "markdown",
      "source": "## Actividad 10: Distribuciones de probabilidad\n\nNombre: René Alejandro González Velázquez\n\nExpediente: 752235\n\nFecha: 17 / 10 / 2024\n\n1. Menciona tres ejemplos de variables aleatorias discretas:\n\n2. Menciona tres ejemplos de variables aleatorias continuas:\n\n3. Dos equipos juegan una serie de juegos (4 de 7, el que gane 4 juegos gana). Cada equipo tiene un 50% de probabilidad de ganar cada juego (no empates). ¿Cuál es la probabilidad de que la serie se vaya a 7 juegos? (5/16)\n\n\n5. Tres amigos diferentes te dijeron que está lloviendo, y cada persona tiene 1/3 de probabilidad de mentir. Si el pronóstico del clima dijo que la probabilidad de lluvia era 25%, ¿cuál es la probabilidad de que sí esté lloviendo? (8/11)\n\n6. Resuelve y añade a esta actividad los ejercicios que están en el notebook \"Distribuciones de probabilidad.ipynb\"",
      "metadata": {}
    },
    {
      "cell_type": "markdown",
      "source": "1. Menciona tres ejemplos de variables aleatorias discretas:",
      "metadata": {}
    },
    {
      "cell_type": "markdown",
      "source": "* Número de dias que llueve al mes\n* Número de goles anotados por un equipo\n* Numero de carros que pasan por un equipo",
      "metadata": {}
    },
    {
      "cell_type": "markdown",
      "source": "2. Menciona tres ejemplos de variables aleatorias continuas:",
      "metadata": {}
    },
    {
      "cell_type": "markdown",
      "source": "* Distancia recorrida\n* Altura de una persona\n* Velocidad de un automovil",
      "metadata": {}
    },
    {
      "cell_type": "markdown",
      "source": "3. Dos equipos juegan una serie de juegos (4 de 7, el que gane 4 juegos gana). Cada equipo tiene un 50% de probabilidad de ganar cada juego (no empates). ¿Cuál es la probabilidad de que la serie se vaya a 7 juegos? (5/16) ",
      "metadata": {}
    },
    {
      "cell_type": "code",
      "source": "import numpy as np\n\nsimulaciones = 100000\njuegos = 6\nequipos = [\"E1\", \"E2\"]\nserie = 0\n\nfor _ in range (simulaciones):\n    A = 0\n    B = 0\n    \n",
      "metadata": {
        "trusted": true
      },
      "outputs": [],
      "execution_count": null
    },
    {
      "cell_type": "code",
      "source": "import numpy as np\n\nsimulaciones = 100000\njuegos = 6\nequipos = [\"E1\", \"E2\"]\nserie = 0\n\nfor _ in range(simulaciones):\n    A = 0  \n    B = 0 \n    \n    for _ in range(juegos):\n        ganador = np.random.choice(equipos)\n        if ganador == \"E1\":\n            A += 1\n        else:\n            B += 1\n        \n        if A == 4 or B == 4:\n            break\n\n    if A == 3 and B == 3:\n        serie += 1\n\nprobabilidad = serie / simulaciones\nprobabilidad\n\n",
      "metadata": {
        "trusted": true
      },
      "outputs": [
        {
          "execution_count": 2,
          "output_type": "execute_result",
          "data": {
            "text/plain": "0.31181"
          },
          "metadata": {}
        }
      ],
      "execution_count": 2
    },
    {
      "cell_type": "markdown",
      "source": "4. Una en mil personas tienen una enfermedad H, y la prueba de la enfermedad sale correcta 98% de las veces cuando la persona está enferma. Por otro lado, si la persona está enferma la prueba tiene un error del 1%. Si alguien se hace una prueba y sale positiva, ¿cuál es la probabilidad de que tengan la enfermedad? (98/1097)",
      "metadata": {}
    },
    {
      "cell_type": "markdown",
      "source": "$$P(D = 1) = 0.1%$$",
      "metadata": {}
    },
    {
      "cell_type": "code",
      "source": "import numpy as np\n\nn = 100000\npersonas = np.random.choice([1, 101], n, p=[0.999, 0.001])\nt1_d1 = np.random.choice([0,1], personas.sum(), p=[0.02, 0.98])\nt1_d0 = np.random.choice([0,1], n - personas.sum(), p=[0.99, 0.01])\n\nt1_d1.sum()/(t1_d1.sum() + t1_d0.sum())\n",
      "metadata": {
        "trusted": true
      },
      "outputs": [
        {
          "ename": "<class 'ValueError'>",
          "evalue": "negative dimensions are not allowed",
          "traceback": [
            "\u001b[0;31m---------------------------------------------------------------------------\u001b[0m",
            "\u001b[0;31mValueError\u001b[0m                                Traceback (most recent call last)",
            "Cell \u001b[0;32mIn[9], line 6\u001b[0m\n\u001b[1;32m      4\u001b[0m personas \u001b[38;5;241m=\u001b[39m np\u001b[38;5;241m.\u001b[39mrandom\u001b[38;5;241m.\u001b[39mchoice([\u001b[38;5;241m1\u001b[39m, \u001b[38;5;241m101\u001b[39m], n, p\u001b[38;5;241m=\u001b[39m[\u001b[38;5;241m0.999\u001b[39m, \u001b[38;5;241m0.001\u001b[39m])\n\u001b[1;32m      5\u001b[0m t1_d1 \u001b[38;5;241m=\u001b[39m np\u001b[38;5;241m.\u001b[39mrandom\u001b[38;5;241m.\u001b[39mchoice([\u001b[38;5;241m0\u001b[39m,\u001b[38;5;241m1\u001b[39m], personas\u001b[38;5;241m.\u001b[39msum(), p\u001b[38;5;241m=\u001b[39m[\u001b[38;5;241m0.02\u001b[39m, \u001b[38;5;241m0.98\u001b[39m])\n\u001b[0;32m----> 6\u001b[0m t1_d0 \u001b[38;5;241m=\u001b[39m \u001b[43mnp\u001b[49m\u001b[38;5;241;43m.\u001b[39;49m\u001b[43mrandom\u001b[49m\u001b[38;5;241;43m.\u001b[39;49m\u001b[43mchoice\u001b[49m\u001b[43m(\u001b[49m\u001b[43m[\u001b[49m\u001b[38;5;241;43m0\u001b[39;49m\u001b[43m,\u001b[49m\u001b[38;5;241;43m1\u001b[39;49m\u001b[43m]\u001b[49m\u001b[43m,\u001b[49m\u001b[43m \u001b[49m\u001b[43mn\u001b[49m\u001b[43m \u001b[49m\u001b[38;5;241;43m-\u001b[39;49m\u001b[43m \u001b[49m\u001b[43mpersonas\u001b[49m\u001b[38;5;241;43m.\u001b[39;49m\u001b[43msum\u001b[49m\u001b[43m(\u001b[49m\u001b[43m)\u001b[49m\u001b[43m,\u001b[49m\u001b[43m \u001b[49m\u001b[43mp\u001b[49m\u001b[38;5;241;43m=\u001b[39;49m\u001b[43m[\u001b[49m\u001b[38;5;241;43m0.99\u001b[39;49m\u001b[43m,\u001b[49m\u001b[43m \u001b[49m\u001b[38;5;241;43m0.01\u001b[39;49m\u001b[43m]\u001b[49m\u001b[43m)\u001b[49m\n\u001b[1;32m      8\u001b[0m t1_d1\u001b[38;5;241m.\u001b[39msum()\u001b[38;5;241m/\u001b[39m(t1_d1\u001b[38;5;241m.\u001b[39msum() \u001b[38;5;241m+\u001b[39m t1_d0\u001b[38;5;241m.\u001b[39msum())\n",
            "File \u001b[0;32mnumpy/random/mtrand.pyx:992\u001b[0m, in \u001b[0;36mnumpy.random.mtrand.RandomState.choice\u001b[0;34m()\u001b[0m\n",
            "File \u001b[0;32mnumpy/random/mtrand.pyx:437\u001b[0m, in \u001b[0;36mnumpy.random.mtrand.RandomState.random_sample\u001b[0;34m()\u001b[0m\n",
            "File \u001b[0;32m_common.pyx:307\u001b[0m, in \u001b[0;36mnumpy.random._common.double_fill\u001b[0;34m()\u001b[0m\n",
            "\u001b[0;31mValueError\u001b[0m: negative dimensions are not allowed"
          ],
          "output_type": "error"
        }
      ],
      "execution_count": 9
    },
    {
      "cell_type": "markdown",
      "source": "5. Tres amigos diferentes te dijeron que está lloviendo, y cada persona tiene 1/3 de probabilidad de mentir. Si el pronóstico del clima dijo que la probabilidad de lluvia era 25%, ¿cuál es la probabilidad de que sí esté lloviendo? (8/11)",
      "metadata": {}
    },
    {
      "cell_type": "code",
      "source": "LLLU",
      "metadata": {
        "trusted": true
      },
      "outputs": [],
      "execution_count": null
    }
  ]
}