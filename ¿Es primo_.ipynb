{
  "metadata": {
    "kernelspec": {
      "name": "python",
      "display_name": "Python (Pyodide)",
      "language": "python"
    },
    "language_info": {
      "codemirror_mode": {
        "name": "python",
        "version": 3
      },
      "file_extension": ".py",
      "mimetype": "text/x-python",
      "name": "python",
      "nbconvert_exporter": "python",
      "pygments_lexer": "ipython3",
      "version": "3.8"
    }
  },
  "nbformat_minor": 4,
  "nbformat": 4,
  "cells": [
    {
      "cell_type": "markdown",
      "source": "## Actividad",
      "metadata": {}
    },
    {
      "cell_type": "markdown",
      "source": "1. Pasar a funcion el código de encontar un numero primo\n   $$esprimo(a)$$",
      "metadata": {}
    },
    {
      "cell_type": "markdown",
      "source": "2. Crear una función que ingrese un numero a y que encuentre el numero primo mas cercano.\n$$0≤a≤100$$",
      "metadata": {}
    },
    {
      "cell_type": "markdown",
      "source": "3. Pasar a función el codigo de encontrar factorial y encontar factorial de los siguientes números:\n   * 4\n   * 7\n   * 5\n   * 8\n   * 9\n   * 3\n\nNo encontrar factoriales de uno en uno.",
      "metadata": {}
    },
    {
      "cell_type": "markdown",
      "source": "4. Crear una lista con los primeros 100 multiplos de 3",
      "metadata": {}
    },
    {
      "cell_type": "code",
      "source": "def esprimo(a):\n    if a <= 1:\n        return False\n    elif a <= 3:\n        return True\n    elif a % 2 == 0 or a % 3 == 0:\n        return False\n    else:\n        return True\n        i = 5\n        while i * i <= a:\n            if numero % i == 0 or numero % (i + 2) == 0:\n                return False\n                break\n            i += 6\n\n    if a:\n        return True\n    else:\n        return False\n        \nesprimo(53)\n",
      "metadata": {
        "trusted": true
      },
      "outputs": [
        {
          "execution_count": 21,
          "output_type": "execute_result",
          "data": {
            "text/plain": "True"
          },
          "metadata": {}
        }
      ],
      "execution_count": 21
    },
    {
      "cell_type": "code",
      "source": "def primo_mas_cercano(n):\n    def esprimo(a):\n        if a <= 1:\n            return False\n        elif a <= 3:\n            return True\n        elif a % 2 == 0 or a % 3 == 0:\n            return False\n        else:\n            return True\n            i = 5\n            while i * i <= a:\n                if numero % i == 0 or numero % (i + 2) == 0:\n                    return False\n                    break\n                i += 6\n        if a:\n            return True\n        else:\n            return False\n\n\n  if n < 0 or n > 100:\n        return (\"No es válido\")\n    \n    primos = [n for n in range(2, 101) if esprimo(a)]\n   \n    if n <= 1:\n        return primos[0]\n    \n    menor_diferencia = float('inf')\n    primo_cercano = None\n    \n    fo\n    return primo_cercano\n\n",
      "metadata": {
        "trusted": true
      },
      "outputs": [
        {
          "name": "stderr",
          "text": "Traceback (most recent call last):\n  File \"/lib/python3.12/site-packages/pyodide_kernel/kernel.py\", line 90, in run\n    code = await self.lite_transform_manager.transform_cell(code)\n           ^^^^^^^^^^^^^^^^^^^^^^^^^^^^^^^^^^^^^^^^^^^^^^^^^^^^^^\n  File \"/lib/python3.12/site-packages/pyodide_kernel/litetransform.py\", line 34, in transform_cell\n    lines = await self.do_token_transforms(lines)\n            ^^^^^^^^^^^^^^^^^^^^^^^^^^^^^^^^^^^^^\n  File \"/lib/python3.12/site-packages/pyodide_kernel/litetransform.py\", line 39, in do_token_transforms\n    changed, lines = await self.do_one_token_transform(lines)\n                     ^^^^^^^^^^^^^^^^^^^^^^^^^^^^^^^^^^^^^^^^\n  File \"/lib/python3.12/site-packages/pyodide_kernel/litetransform.py\", line 59, in do_one_token_transform\n    tokens_by_line = make_tokens_by_line(lines)\n                     ^^^^^^^^^^^^^^^^^^^^^^^^^^\n  File \"/lib/python3.12/site-packages/IPython/core/inputtransformer2.py\", line 535, in make_tokens_by_line\n    for token in tokenutil.generate_tokens_catch_errors(\n  File \"/lib/python3.12/site-packages/IPython/utils/tokenutil.py\", line 40, in generate_tokens_catch_errors\n    for token in tokenize.generate_tokens(readline):\n  File \"/lib/python312.zip/tokenize.py\", line 541, in _generate_tokens_from_c_tokenizer\n    raise e from None\n  File \"/lib/python312.zip/tokenize.py\", line 537, in _generate_tokens_from_c_tokenizer\n    for info in it:\n  File \"<string>\", line 23\n    if n < 0 or n > 100:\n                        ^\nIndentationError: unindent does not match any outer indentation level\n\nIf you suspect this is an IPython 8.23.0 bug, please report it at:\n    https://github.com/ipython/ipython/issues\nor send an email to the mailing list at ipython-dev@python.org\n\nYou can print a more detailed traceback right now with \"%tb\", or use \"%debug\"\nto interactively debug it.\n\nExtra-detailed tracebacks for bug-reporting purposes can be enabled via:\n    %config Application.verbose_crash=True\n\n",
          "output_type": "stream"
        }
      ],
      "execution_count": null
    },
    {
      "cell_type": "code",
      "source": "",
      "metadata": {
        "trusted": true
      },
      "outputs": [],
      "execution_count": null
    }
  ]
}