{
  "metadata": {
    "kernelspec": {
      "name": "python",
      "display_name": "Python (Pyodide)",
      "language": "python"
    },
    "language_info": {
      "name": ""
    }
  },
  "nbformat_minor": 4,
  "nbformat": 4,
  "cells": [
    {
      "cell_type": "markdown",
      "source": "# SIMULACIÓN MATEMATICA",
      "metadata": {}
    },
    {
      "cell_type": "code",
      "source": "1+1",
      "metadata": {
        "trusted": true,
        "tags": [],
        "editable": true,
        "slideshow": {
          "slide_type": ""
        }
      },
      "outputs": [],
      "execution_count": null
    },
    {
      "cell_type": "code",
      "source": "2",
      "metadata": {
        "trusted": true
      },
      "outputs": [],
      "execution_count": null
    },
    {
      "cell_type": "markdown",
      "source": "# CHOCOLATES",
      "metadata": {}
    },
    {
      "cell_type": "markdown",
      "source": "La importancia de los chocolatres en nuestra vida cotidiana",
      "metadata": {}
    },
    {
      "cell_type": "markdown",
      "source": "## Calificacion de choholates de acuerdo al grupo ",
      "metadata": {}
    },
    {
      "cell_type": "markdown",
      "source": "* Blanco\n* Negro\n* Con leche\n* Con almendras\n  * Helados\n  * Nieve\n  * Barras de chcocolate\n* Confitiado",
      "metadata": {}
    },
    {
      "cell_type": "markdown",
      "source": "De los chocolates anteriormente descritoa, mi orden de preferencia es:",
      "metadata": {}
    },
    {
      "cell_type": "markdown",
      "source": "1. Blanco\n2. Negro\n3. Con leche\n4. Con almendras\n5. Confitado\n\nMediante los métodos heuristicos se aprendio que la ecuación del chocolate es:\n",
      "metadata": {}
    },
    {
      "cell_type": "markdown",
      "source": "$$\\frac{numerador}{denominador}$$\n\n$$\\sqrt{adentro}fuera$$",
      "metadata": {}
    },
    {
      "cell_type": "markdown",
      "source": "$$ e^{expresion^2} $$",
      "metadata": {}
    },
    {
      "cell_type": "markdown",
      "source": "$$ \\alpha \\beta $$",
      "metadata": {}
    }
  ]
}