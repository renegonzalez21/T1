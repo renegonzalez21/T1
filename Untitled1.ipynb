{
  "metadata": {
    "kernelspec": {
      "name": "python",
      "display_name": "Python (Pyodide)",
      "language": "python"
    },
    "language_info": {
      "codemirror_mode": {
        "name": "python",
        "version": 3
      },
      "file_extension": ".py",
      "mimetype": "text/x-python",
      "name": "python",
      "nbconvert_exporter": "python",
      "pygments_lexer": "ipython3",
      "version": "3.8"
    }
  },
  "nbformat_minor": 4,
  "nbformat": 4,
  "cells": [
    {
      "cell_type": "code",
      "source": "a = 6\ni = 1\nfactorial = 1\n\nif a < 0:\n    print (\"El factorial no esta definido por números negativos\")\nelse:\n    while i <= a:\n        factorial *= i\n        i += 1\n        resultado = factorial\n        \nprint (\"El factorial de \" + str(a) + \" es \" + str(resultado))",
      "metadata": {
        "trusted": true
      },
      "outputs": [
        {
          "name": "stdout",
          "text": "El factorial de 6 es 720\n",
          "output_type": "stream"
        }
      ],
      "execution_count": 1
    },
    {
      "cell_type": "code",
      "source": "numero = 37\n\nif numero <= 1:\n    a = False\nelif numero <= 3:\n    a = True\nelif numero % 2 == 0 or numero % 3 == 0:\n    a = False\nelse:\n    a = True\n    i = 5\n    while i * i <= numero:\n        if numero % i == 0 or numero % (i + 2) == 0:\n            a = False\n            break\n        i += 6\n\nif a:\n    print(str(numero) + \" es un número primo.\")\nelse:\n    print(str(numero) + \" no es un número primo.\")",
      "metadata": {
        "trusted": true
      },
      "outputs": [
        {
          "name": "stdout",
          "text": "37 es un número primo.\n",
          "output_type": "stream"
        }
      ],
      "execution_count": 2
    },
    {
      "cell_type": "code",
      "source": "",
      "metadata": {
        "trusted": true
      },
      "outputs": [],
      "execution_count": null
    }
  ]
}