{
  "cells": [
    {
      "cell_type": "markdown",
      "id": "318694d0-33e1-44f1-9650-3443bbcd7f43",
      "metadata": {
        "id": "318694d0-33e1-44f1-9650-3443bbcd7f43"
      },
      "source": [
        "# Examen A Módulo 1 - Optimización.\n",
        "\n",
        "**Lea cuidadosamente las siguientes indicaciones antes de comenzar el examen:**\n",
        "- Para resolver el examen edite este mismo archivo y renómbrelo de la siguiente manera: *Examen1_ApellidoNombre*, donde *ApellidoNombre* corresponde a su apellido paterno con la inicial en mayúscula, seguido de su primer nombre con la inicial en mayúscula **sin tildes**. Por ejemplo, en mi caso el nombre del archivo sería *Examen1_MoralesGabriel*.\n",
        "- Resuelva los puntos en el espacio provisto. Si requiere agregar más celdas para código o escritura, hágalo (`Esc`,`B`) o (`Esc`,`A`).\n",
        "- Recuerde que también se está evaluando su capacidad de interpretar los resultados. Escriba sus interpretaciones/conclusiones en celdas utilizando *Markdown*.\n",
        "- El formato de presentación de todo el examen en general debe ser adecuado. Use tamaños de letra, colores, etiquetas, etcétera.\n",
        "- No se resuelven dudas de ningún tipo por los profesores de la asignatura. Por favor, absténgase de preguntar.\n",
        "- Revise bien el tipo de examen. Sólo se le calificará si realiza el tipo de examen asignado."
      ]
    },
    {
      "cell_type": "markdown",
      "id": "416c5986-27e8-4eac-84f7-d5ca143cbbae",
      "metadata": {
        "id": "416c5986-27e8-4eac-84f7-d5ca143cbbae"
      },
      "source": [
        "## 1. Optimización de funciones con `Sympy`\n",
        "\n",
        "Funciones permitidas: subs, solve, var, expresiones matemáticas"
      ]
    },
    {
      "cell_type": "markdown",
      "id": "07dadfa1-7f83-484a-909c-0150a65ce280",
      "metadata": {
        "id": "07dadfa1-7f83-484a-909c-0150a65ce280"
      },
      "source": [
        "\n",
        "Un cine cobra 86 pesos la entrada estándar y 60 pesos la entrada a estudiantes. Una sala con capacidad para 120 personas se ocupó al 70\\%. Los ingresos para esa función fueron de 6,600 MXN. ¿Cuántos estudiantes entraron?"
      ]
    },
    {
      "cell_type": "code",
      "execution_count": 7,
      "id": "a055ddd5-59d1-4679-8549-32cb17ac4083",
      "metadata": {
        "colab": {
          "base_uri": "https://localhost:8080/",
          "height": 37
        },
        "id": "a055ddd5-59d1-4679-8549-32cb17ac4083",
        "outputId": "f8bc898d-4a11-4f95-ba36-47523cf571d0"
      },
      "outputs": [
        {
          "output_type": "execute_result",
          "data": {
            "text/plain": [
              "24.0000000000000"
            ],
            "text/latex": "$\\displaystyle 24.0$"
          },
          "metadata": {},
          "execution_count": 7
        }
      ],
      "source": [
        "import sympy as sp\n",
        "\n",
        "x = sp.var('x')\n",
        "y = sp.var('y')\n",
        "\n",
        "eq1 = sp.Eq(x + y, 0.7 * 120)\n",
        "eq2 = sp.Eq(60 * x + 86 * y, 6600)\n",
        "\n",
        "solucion = sp.solve((eq1, eq2), (x, y))\n",
        "\n",
        "estudiantes = solucion[x]\n",
        "estudiantes\n"
      ]
    },
    {
      "cell_type": "markdown",
      "source": [
        "Esto nos quiere decir que fueron 24 estudiantes los que ingresaron a la funcion y compraron entradas preferenciales, mientras que 60 personas compraron entradas a precio normal. Por lo tanto los ingresos por estudiantes serían 24×60=1440 pesos, y los ingresos por entradas estándar serían 60×86=5160 pesos y la suma de esto da 6600 pesos.\n"
      ],
      "metadata": {
        "id": "Vg9aDGWvBpPN"
      },
      "id": "Vg9aDGWvBpPN"
    },
    {
      "cell_type": "code",
      "execution_count": null,
      "id": "789f4501-2b81-44b3-83dd-4e757a6d90cd",
      "metadata": {
        "id": "789f4501-2b81-44b3-83dd-4e757a6d90cd"
      },
      "outputs": [],
      "source": []
    },
    {
      "cell_type": "markdown",
      "id": "cb9897ae-f689-4575-82ad-d265f7243f77",
      "metadata": {
        "id": "cb9897ae-f689-4575-82ad-d265f7243f77"
      },
      "source": [
        "El cine ofrece combos y opciones individuales. El combo 'amigos' tiene un costo de 156 MXN y consiste de 2 refrescos y unas palomitas. Existe también el combo 'nachos' que tiene un costo de 112 MXN y consiste de un refresco y una orden de nachos. Por separado el refresco tiene un costo de 60 MXN, las palomitas 58 MXN y los nachos 72 MXN. Se obtuvo un total de 6450 de ingresos en dulcería:\n",
        "\n",
        "- 38 combos vendidos\n",
        "- 70 refrescos vendidos\n",
        "- 33 órdenes de palomitas grandes vendidas\n",
        "- 16 órdenes de nachos vendidas\n",
        "\n",
        "¿Cuántas personas compraron palomitas sueltas?"
      ]
    },
    {
      "cell_type": "markdown",
      "source": [
        "combo_amigos = 156\n",
        "\n",
        "combo_nachos = 112\n",
        "\n",
        "refresco = 60\n",
        "\n",
        "palomitas = 58\n",
        "\n",
        "nachos = 72\n",
        "\n",
        "venta_total = 6450\n",
        "\n",
        "\n"
      ],
      "metadata": {
        "id": "jK7PS3-kMY_a"
      },
      "id": "jK7PS3-kMY_a"
    },
    {
      "cell_type": "code",
      "execution_count": 17,
      "id": "bc41bf74-c9a0-47db-9381-c39d2f675dd4",
      "metadata": {
        "colab": {
          "base_uri": "https://localhost:8080/"
        },
        "id": "bc41bf74-c9a0-47db-9381-c39d2f675dd4",
        "outputId": "f1a5122b-658c-4f85-9ee9-1351e9cac750"
      },
      "outputs": [
        {
          "output_type": "execute_result",
          "data": {
            "text/plain": [
              "[]"
            ]
          },
          "metadata": {},
          "execution_count": 17
        }
      ],
      "source": [
        "import sympy as sp\n",
        "\n",
        "x = sp.var('x')\n",
        "y = sp.var('y')\n",
        "z = sp.var('z')\n",
        "\n",
        "combo_amigos = 156\n",
        "combo_nachos = 112\n",
        "refresco = 60\n",
        "palomitas = 58\n",
        "nachos = 72\n",
        "venta_total = 6450\n",
        "\n",
        "eq1 = sp.Eq(38 * 156 + y * 60 + 33 * 58 + z * 72, 6450)\n",
        "eq2 = sp.Eq(70, 38 * 2 + y)\n",
        "eq3 = sp.Eq(z, 16)\n",
        "\n",
        "solucion = sp.solve((eq1, eq2, eq3), (x, y, z))\n",
        "\n",
        "solucion\n",
        "\n"
      ]
    },
    {
      "cell_type": "code",
      "execution_count": null,
      "id": "52dce079-007e-40e2-bb15-af08a51dec11",
      "metadata": {
        "id": "52dce079-007e-40e2-bb15-af08a51dec11"
      },
      "outputs": [],
      "source": []
    },
    {
      "cell_type": "markdown",
      "id": "ab5836e7-1035-42cc-9c90-6f7178d2b733",
      "metadata": {
        "id": "ab5836e7-1035-42cc-9c90-6f7178d2b733"
      },
      "source": [
        "## 2. Programación lineal"
      ]
    },
    {
      "cell_type": "markdown",
      "id": "86788769-18d8-49e5-9ec2-4ba4d8c0c1ce",
      "metadata": {
        "id": "86788769-18d8-49e5-9ec2-4ba4d8c0c1ce"
      },
      "source": [
        "Una empresa produce costales de 3 tipos de fertilizantes para diferentes aplicaciones utilizando cuantro componentes químicos: azufre, potasio, fósforo y nitrógeno. La información de cada tonelada de fertilizante es:\n"
      ]
    },
    {
      "cell_type": "markdown",
      "id": "2de8d90d-84ea-4537-887a-15127e2aaca7",
      "metadata": {
        "id": "2de8d90d-84ea-4537-887a-15127e2aaca7"
      },
      "source": [
        "<table>\n",
        "  <tr>\n",
        "      <th>Fertilizante</th>\n",
        "      <th>Fósforo</th>\n",
        "      <th>Azufre</th>\n",
        "      <th>Potasio</th>\n",
        "      <th>Nitrógeno</th>\n",
        "      <th>Precio de venta </th>\n",
        "  </tr>\n",
        "  <tr>\n",
        "      <td>A</td>\n",
        "      <td>3 kg</td>\n",
        "      <td>5 kg</td>\n",
        "      <td>4 kg</td>\n",
        "      <td>2 kg </td>\n",
        "      <td>\\$40000</td>\n",
        "  </tr>\n",
        "  <tr>\n",
        "      <td>B</td>\n",
        "      <td>4 kg</td>\n",
        "      <td>3 kg</td>\n",
        "      <td>2 kg</td>\n",
        "      <td>1 kg</td>\n",
        "      <td>\\$50000</td>\n",
        "  </tr>\n",
        "  <tr>\n",
        "      <td>C</td>\n",
        "      <td>5 kg</td>\n",
        "      <td>2 kg</td>\n",
        "      <td>3 kg</td>\n",
        "      <td>4 kg</td>\n",
        "      <td>\\$60000</td>\n",
        "  </tr>\n",
        "\n",
        "</table>"
      ]
    },
    {
      "cell_type": "markdown",
      "id": "c712fdf8-3adf-4294-aafc-50be5eb7743d",
      "metadata": {
        "id": "c712fdf8-3adf-4294-aafc-50be5eb7743d"
      },
      "source": [
        "La máquina que se usa para mezclar el fertilizante C necesita mantenimiento y por lo tanto sólo puede mezclar 10 toneladas. Además, hay un pedido de 8 toneladas del fertilizante A."
      ]
    },
    {
      "cell_type": "markdown",
      "id": "52edf909-5367-4cd1-ba12-8a1341254de4",
      "metadata": {
        "id": "52edf909-5367-4cd1-ba12-8a1341254de4"
      },
      "source": [
        "Dado que en almacén se tienen 90 kg de fósforo, 120 kg de nitrógeno, 80 kg de azufre y 95 kg de potasio, ¿cuánto recomiendas que se mezcle de cada fertilizante? (Nota: No se permiten fracciones de toneladas)"
      ]
    },
    {
      "cell_type": "markdown",
      "source": [
        "90 kg fosforo\n",
        "\n",
        "120 kg nitrogeno\n",
        "\n",
        "80 kg de azufre\n",
        "\n",
        "95 kg de potasio\n",
        "\n",
        "\n",
        "fosforo = 3 + 4 + 5 $\\leq$ 90\n",
        "\n",
        "Azufre = 5 + 3 + 2 $\\leq$ 80\n",
        "\n",
        "Potasio = 4 + 2 + 3 $\\leq$ 95\n",
        "\n",
        "Nitrogeno = 2 + 1 + 4 $\\leq$ 120\n"
      ],
      "metadata": {
        "id": "G9PsTBAQNWPi"
      },
      "id": "G9PsTBAQNWPi"
    },
    {
      "cell_type": "markdown",
      "source": [
        "# Problema de Programación Lineal para la Producción de Fertilizantes\n",
        "\n",
        "## Restricciones\n",
        "\n",
        "1. La máquina que se usa para mezclar el fertilizante C puede mezclar un máximo de 10 toneladas.\n",
        "2. Hay un pedido de 8 toneladas del fertilizante A.\n",
        "3. Disponibilidad en almacén:\n",
        "   - Fósforo: 90 kg\n",
        "   - Nitrógeno: 120 kg\n",
        "   - Azufre: 80 kg\n",
        "   - Potasio: 95 kg\n",
        "\n",
        "## Variables de Decisión\n",
        "\n",
        "- \\( A \\): toneladas del fertilizante A a mezclar\n",
        "- \\( B \\): toneladas del fertilizante B a mezclar\n",
        "- \\( C \\): toneladas del fertilizante C a mezclar\n",
        "\n",
        "## Función Objetivo\n",
        "\n",
        "Maximizar el ingreso total por la venta de fertilizantes:\n",
        "\n",
        "$[\\text{Maximizar } Z = 40000 A + 50000 B + 60000 C ]$\n",
        "\n",
        "## Restricciones\n",
        "\n",
        "1. Disponibilidad de fósforo:\n",
        "   $[\n",
        "   3A + 4B + 5C \\leq 90\n",
        "   ]$\n",
        "   \n",
        "2. Disponibilidad de azufre:\n",
        "   $[\n",
        "   5A + 3B + 2C \\leq 80\n",
        "   ]$\n",
        "\n",
        "3. Disponibilidad de potasio:\n",
        "   $[\n",
        "   4A + 2B + 3C \\leq 95\n",
        "   ]$\n",
        "\n",
        "4. Disponibilidad de nitrógeno:\n",
        "   $[\n",
        "   2A + 1B + 4C \\leq 120\n",
        "   ]$\n",
        "\n",
        "5. Restricción de producción de A:\n",
        "   $[\n",
        "   A \\geq 8\n",
        "   ]$\n",
        "\n",
        "6. Restricción de producción de C:\n",
        "   $[\n",
        "   C \\leq 10\n",
        "   ]$\n",
        "\n",
        "7. No negatividad:\n",
        "   $[\n",
        "   A, B, C \\geq 0\n",
        "   ]$\n",
        "\n",
        "## Solución\n",
        "\n",
        "Se busca determinar la cantidad de cada fertilizante (A, B y C) a mezclar que maximice los ingresos bajo las restricciones anteriores.\n"
      ],
      "metadata": {
        "id": "XlwNtK1WFSZf"
      },
      "id": "XlwNtK1WFSZf"
    },
    {
      "cell_type": "code",
      "execution_count": 35,
      "id": "23897615-91a8-40e3-8d0f-425817b73dd6",
      "metadata": {
        "colab": {
          "base_uri": "https://localhost:8080/"
        },
        "id": "23897615-91a8-40e3-8d0f-425817b73dd6",
        "outputId": "371ddaac-fcd6-4582-bc1b-9c5969037f3b"
      },
      "outputs": [
        {
          "output_type": "execute_result",
          "data": {
            "text/plain": [
              "((8, 9, 6), 1130000)"
            ]
          },
          "metadata": {},
          "execution_count": 35
        }
      ],
      "source": [
        "max_fosforo = 90\n",
        "max_azufre = 80\n",
        "max_potasio = 95\n",
        "max_nitrogeno = 120\n",
        "\n",
        "pedido_A = 8\n",
        "max_C = 10\n",
        "\n",
        "mejor_solucion = None\n",
        "max_ingreso = 0\n",
        "\n",
        "for B in range(0, 17):\n",
        "    for C in range(0, max_C + 1):\n",
        "        A = pedido_A\n",
        "\n",
        "        fosforo = 3 * A + 4 * B + 5 * C\n",
        "        azufre = 5 * A + 3 * B + 2 * C\n",
        "        potasio = 4 * A + 2 * B + 3 * C\n",
        "        nitrogeno = 2 * A + 1 * B + 4 * C\n",
        "\n",
        "        if (fosforo <= max_fosforo and\n",
        "            azufre <= max_azufre and\n",
        "            potasio <= max_potasio and\n",
        "            nitrogeno <= max_nitrogeno):\n",
        "\n",
        "            ingreso = 40000 * A + 50000 * B + 60000 * C\n",
        "\n",
        "            if ingreso > max_ingreso:\n",
        "                max_ingreso = ingreso\n",
        "                mejor_solucion = (A, B, C)\n",
        "\n",
        "mejor_solucion, max_ingreso"
      ]
    },
    {
      "cell_type": "markdown",
      "source": [
        "Los resultados sugieren que, dadas las limitaciones de recursos y la necesidad de producir al menos 8 toneladas del Fertilizante A, 9 toneladas del Fertilizante B y limitando la producción de Fertilizante C a 6 toneladas. Esta estrategia maximiza los ingresos, asegurando el cumplimiento de los requisitos de producción y el uso eficiente de los recursos disponibles, ademas aumentando las ganancias significativamente a más de 1'000,000 de pesos."
      ],
      "metadata": {
        "id": "Oo1F7rzjMOp6"
      },
      "id": "Oo1F7rzjMOp6"
    },
    {
      "cell_type": "code",
      "execution_count": null,
      "id": "4f0ce73a-ba09-4091-998d-3986610fe369",
      "metadata": {
        "id": "4f0ce73a-ba09-4091-998d-3986610fe369"
      },
      "outputs": [],
      "source": []
    },
    {
      "cell_type": "code",
      "execution_count": null,
      "id": "7feea821-031b-4550-afb6-9676735443c9",
      "metadata": {
        "id": "7feea821-031b-4550-afb6-9676735443c9"
      },
      "outputs": [],
      "source": []
    },
    {
      "cell_type": "markdown",
      "id": "37122386-1fe4-4c31-bd70-9da91932311c",
      "metadata": {
        "id": "37122386-1fe4-4c31-bd70-9da91932311c"
      },
      "source": [
        "¿Cuál es el ingreso total?"
      ]
    },
    {
      "cell_type": "markdown",
      "source": [
        "1'130,000 pesos"
      ],
      "metadata": {
        "id": "JrujeJKGNudm"
      },
      "id": "JrujeJKGNudm"
    },
    {
      "cell_type": "markdown",
      "id": "5944d4b6-a651-47ec-91d8-f6e3666d62a3",
      "metadata": {
        "id": "5944d4b6-a651-47ec-91d8-f6e3666d62a3"
      },
      "source": [
        "¿Cuánto fósforo quedó en almacén?"
      ]
    },
    {
      "cell_type": "markdown",
      "source": [
        "Fosforo usado=3(8)+4(9)+5(6)\n",
        "\n",
        "Haciendo las sumas correspondientes y posteriormente restandolo con el total de al final el fosforo restante es de 0"
      ],
      "metadata": {
        "id": "kP82KtyDOMw3"
      },
      "id": "kP82KtyDOMw3"
    },
    {
      "cell_type": "markdown",
      "id": "5837735d-4552-4fd3-919c-8c2250de718e",
      "metadata": {
        "id": "5837735d-4552-4fd3-919c-8c2250de718e"
      },
      "source": [
        "## 3. Regresión lineal"
      ]
    },
    {
      "cell_type": "markdown",
      "id": "4a308da2-7cba-4f2b-85f9-9b3655206ff2",
      "metadata": {
        "id": "4a308da2-7cba-4f2b-85f9-9b3655206ff2"
      },
      "source": [
        "Se quiere predecir la resistencia a la compresión de concreto en función de las proporciones de los componentes en la mezcla (cemento, arena, agua, agregado). La constructora que está realizando el análisis tiene datos históricos donde se registraron cantidades de materia y la resistencia medida:"
      ]
    },
    {
      "cell_type": "code",
      "execution_count": null,
      "id": "7fd530bd-4cc0-4594-9fa4-e48a8d9eda0b",
      "metadata": {
        "id": "7fd530bd-4cc0-4594-9fa4-e48a8d9eda0b",
        "outputId": "199b0f33-e22b-4f04-f9f8-516687249554"
      },
      "outputs": [
        {
          "data": {
            "text/html": [
              "<div>\n",
              "<style scoped>\n",
              "    .dataframe tbody tr th:only-of-type {\n",
              "        vertical-align: middle;\n",
              "    }\n",
              "\n",
              "    .dataframe tbody tr th {\n",
              "        vertical-align: top;\n",
              "    }\n",
              "\n",
              "    .dataframe thead th {\n",
              "        text-align: right;\n",
              "    }\n",
              "</style>\n",
              "<table border=\"1\" class=\"dataframe\">\n",
              "  <thead>\n",
              "    <tr style=\"text-align: right;\">\n",
              "      <th></th>\n",
              "      <th>Cemento (kg)</th>\n",
              "      <th>Arena (kg)</th>\n",
              "      <th>Agua (kg)</th>\n",
              "      <th>Agregado (kg)</th>\n",
              "      <th>Resistencia a la compresión (MPa)</th>\n",
              "    </tr>\n",
              "  </thead>\n",
              "  <tbody>\n",
              "    <tr>\n",
              "      <th>0</th>\n",
              "      <td>350</td>\n",
              "      <td>600</td>\n",
              "      <td>180</td>\n",
              "      <td>1000</td>\n",
              "      <td>35</td>\n",
              "    </tr>\n",
              "    <tr>\n",
              "      <th>1</th>\n",
              "      <td>400</td>\n",
              "      <td>550</td>\n",
              "      <td>160</td>\n",
              "      <td>1100</td>\n",
              "      <td>42</td>\n",
              "    </tr>\n",
              "    <tr>\n",
              "      <th>2</th>\n",
              "      <td>300</td>\n",
              "      <td>700</td>\n",
              "      <td>200</td>\n",
              "      <td>950</td>\n",
              "      <td>30</td>\n",
              "    </tr>\n",
              "    <tr>\n",
              "      <th>3</th>\n",
              "      <td>450</td>\n",
              "      <td>500</td>\n",
              "      <td>170</td>\n",
              "      <td>1200</td>\n",
              "      <td>50</td>\n",
              "    </tr>\n",
              "    <tr>\n",
              "      <th>4</th>\n",
              "      <td>380</td>\n",
              "      <td>580</td>\n",
              "      <td>175</td>\n",
              "      <td>1050</td>\n",
              "      <td>38</td>\n",
              "    </tr>\n",
              "    <tr>\n",
              "      <th>5</th>\n",
              "      <td>410</td>\n",
              "      <td>540</td>\n",
              "      <td>165</td>\n",
              "      <td>1150</td>\n",
              "      <td>44</td>\n",
              "    </tr>\n",
              "    <tr>\n",
              "      <th>6</th>\n",
              "      <td>320</td>\n",
              "      <td>650</td>\n",
              "      <td>185</td>\n",
              "      <td>980</td>\n",
              "      <td>32</td>\n",
              "    </tr>\n",
              "    <tr>\n",
              "      <th>7</th>\n",
              "      <td>370</td>\n",
              "      <td>590</td>\n",
              "      <td>172</td>\n",
              "      <td>1020</td>\n",
              "      <td>36</td>\n",
              "    </tr>\n",
              "    <tr>\n",
              "      <th>8</th>\n",
              "      <td>390</td>\n",
              "      <td>570</td>\n",
              "      <td>170</td>\n",
              "      <td>1080</td>\n",
              "      <td>40</td>\n",
              "    </tr>\n",
              "    <tr>\n",
              "      <th>9</th>\n",
              "      <td>360</td>\n",
              "      <td>610</td>\n",
              "      <td>190</td>\n",
              "      <td>970</td>\n",
              "      <td>34</td>\n",
              "    </tr>\n",
              "    <tr>\n",
              "      <th>10</th>\n",
              "      <td>340</td>\n",
              "      <td>630</td>\n",
              "      <td>182</td>\n",
              "      <td>990</td>\n",
              "      <td>33</td>\n",
              "    </tr>\n",
              "    <tr>\n",
              "      <th>11</th>\n",
              "      <td>430</td>\n",
              "      <td>520</td>\n",
              "      <td>165</td>\n",
              "      <td>1120</td>\n",
              "      <td>48</td>\n",
              "    </tr>\n",
              "    <tr>\n",
              "      <th>12</th>\n",
              "      <td>315</td>\n",
              "      <td>660</td>\n",
              "      <td>195</td>\n",
              "      <td>950</td>\n",
              "      <td>31</td>\n",
              "    </tr>\n",
              "    <tr>\n",
              "      <th>13</th>\n",
              "      <td>405</td>\n",
              "      <td>545</td>\n",
              "      <td>175</td>\n",
              "      <td>1060</td>\n",
              "      <td>43</td>\n",
              "    </tr>\n",
              "    <tr>\n",
              "      <th>14</th>\n",
              "      <td>425</td>\n",
              "      <td>530</td>\n",
              "      <td>168</td>\n",
              "      <td>1140</td>\n",
              "      <td>47</td>\n",
              "    </tr>\n",
              "    <tr>\n",
              "      <th>15</th>\n",
              "      <td>345</td>\n",
              "      <td>620</td>\n",
              "      <td>180</td>\n",
              "      <td>990</td>\n",
              "      <td>37</td>\n",
              "    </tr>\n",
              "    <tr>\n",
              "      <th>16</th>\n",
              "      <td>395</td>\n",
              "      <td>560</td>\n",
              "      <td>175</td>\n",
              "      <td>1040</td>\n",
              "      <td>41</td>\n",
              "    </tr>\n",
              "    <tr>\n",
              "      <th>17</th>\n",
              "      <td>355</td>\n",
              "      <td>605</td>\n",
              "      <td>185</td>\n",
              "      <td>1010</td>\n",
              "      <td>35</td>\n",
              "    </tr>\n",
              "    <tr>\n",
              "      <th>18</th>\n",
              "      <td>440</td>\n",
              "      <td>515</td>\n",
              "      <td>162</td>\n",
              "      <td>1160</td>\n",
              "      <td>49</td>\n",
              "    </tr>\n",
              "    <tr>\n",
              "      <th>19</th>\n",
              "      <td>310</td>\n",
              "      <td>670</td>\n",
              "      <td>198</td>\n",
              "      <td>940</td>\n",
              "      <td>29</td>\n",
              "    </tr>\n",
              "    <tr>\n",
              "      <th>20</th>\n",
              "      <td>385</td>\n",
              "      <td>575</td>\n",
              "      <td>178</td>\n",
              "      <td>1070</td>\n",
              "      <td>39</td>\n",
              "    </tr>\n",
              "    <tr>\n",
              "      <th>21</th>\n",
              "      <td>370</td>\n",
              "      <td>590</td>\n",
              "      <td>172</td>\n",
              "      <td>1030</td>\n",
              "      <td>36</td>\n",
              "    </tr>\n",
              "    <tr>\n",
              "      <th>22</th>\n",
              "      <td>425</td>\n",
              "      <td>535</td>\n",
              "      <td>170</td>\n",
              "      <td>1110</td>\n",
              "      <td>45</td>\n",
              "    </tr>\n",
              "    <tr>\n",
              "      <th>23</th>\n",
              "      <td>335</td>\n",
              "      <td>625</td>\n",
              "      <td>180</td>\n",
              "      <td>1025</td>\n",
              "      <td>33</td>\n",
              "    </tr>\n",
              "  </tbody>\n",
              "</table>\n",
              "</div>"
            ],
            "text/plain": [
              "    Cemento (kg)  Arena (kg)  Agua (kg)  Agregado (kg)  \\\n",
              "0            350         600        180           1000   \n",
              "1            400         550        160           1100   \n",
              "2            300         700        200            950   \n",
              "3            450         500        170           1200   \n",
              "4            380         580        175           1050   \n",
              "5            410         540        165           1150   \n",
              "6            320         650        185            980   \n",
              "7            370         590        172           1020   \n",
              "8            390         570        170           1080   \n",
              "9            360         610        190            970   \n",
              "10           340         630        182            990   \n",
              "11           430         520        165           1120   \n",
              "12           315         660        195            950   \n",
              "13           405         545        175           1060   \n",
              "14           425         530        168           1140   \n",
              "15           345         620        180            990   \n",
              "16           395         560        175           1040   \n",
              "17           355         605        185           1010   \n",
              "18           440         515        162           1160   \n",
              "19           310         670        198            940   \n",
              "20           385         575        178           1070   \n",
              "21           370         590        172           1030   \n",
              "22           425         535        170           1110   \n",
              "23           335         625        180           1025   \n",
              "\n",
              "    Resistencia a la compresión (MPa)  \n",
              "0                                  35  \n",
              "1                                  42  \n",
              "2                                  30  \n",
              "3                                  50  \n",
              "4                                  38  \n",
              "5                                  44  \n",
              "6                                  32  \n",
              "7                                  36  \n",
              "8                                  40  \n",
              "9                                  34  \n",
              "10                                 33  \n",
              "11                                 48  \n",
              "12                                 31  \n",
              "13                                 43  \n",
              "14                                 47  \n",
              "15                                 37  \n",
              "16                                 41  \n",
              "17                                 35  \n",
              "18                                 49  \n",
              "19                                 29  \n",
              "20                                 39  \n",
              "21                                 36  \n",
              "22                                 45  \n",
              "23                                 33  "
            ]
          },
          "execution_count": 526,
          "metadata": {},
          "output_type": "execute_result"
        }
      ],
      "source": [
        "import pandas as pd\n",
        "data = {\n",
        "    'Cemento (kg)': [350, 400, 300, 450, 380, 410, 320, 370, 390, 360,\n",
        "                     340, 430, 315, 405, 425, 345, 395, 355, 440, 310,\n",
        "                     385, 370, 425, 335],\n",
        "    'Arena (kg)': [600, 550, 700, 500, 580, 540, 650, 590, 570, 610,\n",
        "                   630, 520, 660, 545, 530, 620, 560, 605, 515, 670,\n",
        "                   575, 590, 535, 625],\n",
        "    'Agua (kg)': [180, 160, 200, 170, 175, 165, 185, 172, 170, 190,\n",
        "                  182, 165, 195, 175, 168, 180, 175, 185, 162, 198,\n",
        "                  178, 172, 170, 180],\n",
        "    'Agregado (kg)': [1000, 1100, 950, 1200, 1050, 1150, 980, 1020, 1080, 970,\n",
        "                      990, 1120, 950, 1060, 1140, 990, 1040, 1010, 1160, 940,\n",
        "                      1070, 1030, 1110, 1025],\n",
        "    'Resistencia a la compresión (MPa)': [35, 42, 30, 50, 38, 44, 32, 36, 40, 34,\n",
        "                                          33, 48, 31, 43, 47, 37, 41, 35, 49, 29,\n",
        "                                          39, 36, 45, 33]\n",
        "}\n",
        "data = pd.DataFrame(data)\n",
        "data"
      ]
    },
    {
      "cell_type": "markdown",
      "id": "f1cc1217-2c41-4082-961b-8369dd6f628a",
      "metadata": {
        "id": "f1cc1217-2c41-4082-961b-8369dd6f628a"
      },
      "source": [
        "Ajusta un modelo utilizando mínimos cuadrados para encontrar una función que pueda predecir la resistencia del concreto."
      ]
    },
    {
      "cell_type": "code",
      "execution_count": 42,
      "id": "ad291701-9ab6-494e-ab9f-0bbd017ced75",
      "metadata": {
        "id": "ad291701-9ab6-494e-ab9f-0bbd017ced75",
        "colab": {
          "base_uri": "https://localhost:8080/"
        },
        "outputId": "85da0f4b-096e-4ede-c285-65ff451ea8b3"
      },
      "outputs": [
        {
          "output_type": "execute_result",
          "data": {
            "text/plain": [
              "array([-5.57589010e+01,  1.37376591e-01,  2.43571125e-02,  1.94850667e-02,\n",
              "        2.39738351e-02])"
            ]
          },
          "metadata": {},
          "execution_count": 42
        }
      ],
      "source": [
        "import numpy as np\n",
        "import pandas as pd\n",
        "from scipy.optimize import minimize\n",
        "from scipy import stats\n",
        "\n",
        "data = {\n",
        "    'Cemento (kg)': [350, 400, 300, 450, 380, 410, 320, 370, 390, 360,\n",
        "                     340, 430, 315, 405, 425, 345, 395, 355, 440, 310,\n",
        "                     385, 370, 425, 335],\n",
        "    'Arena (kg)': [600, 550, 700, 500, 580, 540, 650, 590, 570, 610,\n",
        "                   630, 520, 660, 545, 530, 620, 560, 605, 515, 670,\n",
        "                   575, 590, 535, 625],\n",
        "    'Agua (kg)': [180, 160, 200, 170, 175, 165, 185, 172, 170, 190,\n",
        "                  182, 165, 195, 175, 168, 180, 175, 185, 162, 198,\n",
        "                  178, 172, 170, 180],\n",
        "    'Agregado (kg)': [1000, 1100, 950, 1200, 1050, 1150, 980, 1020, 1080, 970,\n",
        "                      990, 1120, 950, 1060, 1140, 990, 1040, 1010, 1160, 940,\n",
        "                      1070, 1030, 1110, 1025],\n",
        "    'Resistencia a la compresión (MPa)': [35, 42, 30, 50, 38, 44, 32, 36, 40, 34,\n",
        "                                          33, 48, 31, 43, 47, 37, 41, 35, 49, 29,\n",
        "                                          39, 36, 45, 33]\n",
        "}\n",
        "data = pd.DataFrame(data)\n",
        "\n",
        "X = data[['Cemento (kg)', 'Arena (kg)', 'Agua (kg)', 'Agregado (kg)']].values\n",
        "y = data['Resistencia a la compresión (MPa)'].values\n",
        "\n",
        "ones = np.ones((X.shape[0], 1))\n",
        "X = np.hstack((ones, X))\n",
        "\n",
        "def costo_funcion(theta, X, y):\n",
        "    predicciones = X.dot(theta)\n",
        "    return np.mean((predicciones - y) ** 2)\n",
        "\n",
        "theta_01 = np.zeros(X.shape[1])\n",
        "\n",
        "result = minimize(costo_funcion, theta_01, args=(X, y))\n",
        "\n",
        "theta_estimada = result.x\n",
        "theta_estimada"
      ]
    },
    {
      "cell_type": "code",
      "execution_count": 48,
      "id": "dc43a29f-8c10-4daf-bf78-772807c42946",
      "metadata": {
        "id": "dc43a29f-8c10-4daf-bf78-772807c42946",
        "colab": {
          "base_uri": "https://localhost:8080/"
        },
        "outputId": "e27dc717-b7e3-4fbf-e8c8-916c9f47fd57"
      },
      "outputs": [
        {
          "output_type": "execute_result",
          "data": {
            "text/plain": [
              "(array([-1.66363793,  2.96670803,  0.63903057,  0.35848138,  2.31310047]),\n",
              " array([0.11259171, 0.00792418, 0.53043226, 0.72393538, 0.03207882]))"
            ]
          },
          "metadata": {},
          "execution_count": 48
        }
      ],
      "source": [
        "predictions = X.dot(theta_estimada)\n",
        "residual = y - predictions\n",
        "\n",
        "sigma_squared = np.mean(residual ** 2)\n",
        "\n",
        "var_theta = sigma_squared * np.linalg.inv(X.T.dot(X))\n",
        "\n",
        "std_error = np.sqrt(np.diag(var_theta))\n",
        "\n",
        "t_values = theta_estimada / std_error\n",
        "p_values = 2 * (1 - stats.t.cdf(np.abs(t_values), df=X.shape[0] - X.shape[1]))\n",
        "\n",
        "t_values, p_values"
      ]
    },
    {
      "cell_type": "markdown",
      "id": "1415a350-3a0f-4697-b1d3-130b7e5950e8",
      "metadata": {
        "id": "1415a350-3a0f-4697-b1d3-130b7e5950e8"
      },
      "source": [
        "¿Qué efecto tiene cada factor en la resistencia de la mezcla?"
      ]
    },
    {
      "cell_type": "markdown",
      "source": [
        "## Cemento\n",
        "* Valor *t*: -1.66\n",
        "* Valor *p*: 0.11\n",
        "  \n",
        "Aunque el cemento es fundamental para la resistencia del concreto, su coeficiente no es significativo. Esto sugiere que, en el rango de datos analizados, los cambios en la cantidad de cemento no tienen un efecto claro sobre la resistencia a la compresión. Esto podría deberse a que otras variables son más influyentes.\n",
        "\n",
        "## Arena\n",
        "* Valor *t*: 2.97\n",
        "* Valor *p*: 0.01\n",
        "\n",
        "La arena tiene un efecto positivo y significativo en la resistencia a la compresión. Un incremento en la cantidad de arena en la mezcla se asocia con un aumento en la resistencia. Esto indica que optimizar la cantidad de arena podría ser clave para mejorar la calidad del concreto.\n",
        "\n",
        "## Agua\n",
        "* Valor *t*: 0.64\n",
        "* Valor *p*: 0.53\n",
        "\n",
        "Con base a los resultados el agua no tiene un efecto significativo en la resistencia a la compresión, ya que su valor *p* es bastante alto. Esto indica que, en el rango de datos analizados, la cantidad de agua no influye notablemente en la resistencia, lo que puede ser inesperado, dado que típicamente se espera que el exceso de agua perjudique la resistencia.\n",
        "\n",
        "## Agregado\n",
        "* Valor *t*: 0.36\n",
        "* Valor *p*: 0.72\n",
        "\n",
        "De igual manera que como ocurrio en el agua, el agregado tampoco muestra un efecto significativo en la resistencia a la compresión. Esto podría indicar que, en el rango de datos, las variaciones en la cantidad de agregado no están afectando notablemente la resistencia del concreto."
      ],
      "metadata": {
        "id": "QPkeW026Vg7q"
      },
      "id": "QPkeW026Vg7q"
    },
    {
      "cell_type": "code",
      "execution_count": 48,
      "id": "b32d1b87-e9e4-40b6-9cfb-ad50dca0ba51",
      "metadata": {
        "id": "b32d1b87-e9e4-40b6-9cfb-ad50dca0ba51"
      },
      "outputs": [],
      "source": []
    },
    {
      "cell_type": "code",
      "execution_count": null,
      "id": "6a8652a2-20e0-49c5-bc66-1472333ab728",
      "metadata": {
        "id": "6a8652a2-20e0-49c5-bc66-1472333ab728"
      },
      "outputs": [],
      "source": []
    },
    {
      "cell_type": "code",
      "execution_count": null,
      "id": "f404a6bf-816e-439f-9e8a-f9bb588af731",
      "metadata": {
        "id": "f404a6bf-816e-439f-9e8a-f9bb588af731"
      },
      "outputs": [],
      "source": []
    },
    {
      "cell_type": "markdown",
      "id": "89a911f1-641a-45c4-b4b8-b2f86ce5b5e6",
      "metadata": {
        "id": "89a911f1-641a-45c4-b4b8-b2f86ce5b5e6"
      },
      "source": [
        "¿Cuál será la resistencia si mezclo 390 kg de cemento, 570 kg de arena, 170 kg de agua y 1080 kg de agregado?"
      ]
    },
    {
      "cell_type": "markdown",
      "source": [
        "El resultado seria:\n",
        "211.63 MPa con respecto a los resultados obtenidos, ya que con respecto de -1.66363793,  2.96670803,  0.63903057,  0.35848138,  2.31310047. Ya que con estos coeficientes, realizamos la formula correspondiente y lo sustituimos en lo dicho por la prgunta, y nos da **211.63 MPa**"
      ],
      "metadata": {
        "id": "TLiHHecCX5oc"
      },
      "id": "TLiHHecCX5oc"
    },
    {
      "cell_type": "markdown",
      "id": "077149c9-ed47-438a-bf64-f715a817727d",
      "metadata": {
        "id": "077149c9-ed47-438a-bf64-f715a817727d"
      },
      "source": [
        "## 4. Regresión logística"
      ]
    },
    {
      "cell_type": "markdown",
      "id": "0e9a4289-4c6e-4851-a1f4-3cc8cc3ab833",
      "metadata": {
        "id": "0e9a4289-4c6e-4851-a1f4-3cc8cc3ab833"
      },
      "source": [
        "Un equipo de ingenieros quiere saber si una muestra de concreto hidráulico fallará o no bajo determinadas condiciones, basándose en experiencias pasadas.\n",
        "\n",
        "<table>\n",
        "  <thead>\n",
        "    <tr>\n",
        "      <th>Resistencia a la compresión (MPa)</th>\n",
        "      <th>Edad del concreto (días)</th>\n",
        "      <th>Relación agua-cemento</th>\n",
        "      <th>Falla (Sí/No)</th>\n",
        "    </tr>\n",
        "  </thead>\n",
        "  <tbody>\n",
        "    <tr>\n",
        "      <td>25</td>\n",
        "      <td>28</td>\n",
        "      <td>0.45</td>\n",
        "      <td>Sí</td>\n",
        "    </tr>\n",
        "    <tr>\n",
        "      <td>40</td>\n",
        "      <td>56</td>\n",
        "      <td>0.35</td>\n",
        "      <td>No</td>\n",
        "    </tr>\n",
        "    <tr>\n",
        "      <td>30</td>\n",
        "      <td>28</td>\n",
        "      <td>0.50</td>\n",
        "      <td>Sí</td>\n",
        "    </tr>\n",
        "    <tr>\n",
        "      <td>50</td>\n",
        "      <td>90</td>\n",
        "      <td>0.30</td>\n",
        "      <td>No</td>\n",
        "    </tr>\n",
        "    <tr>\n",
        "      <td>35</td>\n",
        "      <td>28</td>\n",
        "      <td>0.40</td>\n",
        "      <td>Sí</td>\n",
        "    </tr>\n",
        "    <tr>\n",
        "      <td>55</td>\n",
        "      <td>120</td>\n",
        "      <td>0.32</td>\n",
        "      <td>No</td>\n",
        "    </tr>\n",
        "    <tr>\n",
        "      <td>45</td>\n",
        "      <td>60</td>\n",
        "      <td>0.36</td>\n",
        "      <td>No</td>\n",
        "    </tr>\n",
        "    <tr>\n",
        "      <td>20</td>\n",
        "      <td>7</td>\n",
        "      <td>0.55</td>\n",
        "      <td>Sí</td>\n",
        "    </tr>\n",
        "  </tbody>\n",
        "</table>\n"
      ]
    },
    {
      "cell_type": "markdown",
      "id": "5911243f-05cf-4009-896d-1ff1354fc1bf",
      "metadata": {
        "id": "5911243f-05cf-4009-896d-1ff1354fc1bf"
      },
      "source": [
        "1. ¿Qué factor afecta más? (Utiliza un vector de ceros como tu beta inicial)"
      ]
    },
    {
      "cell_type": "code",
      "source": [
        "import pandas as pd\n",
        "from sklearn.model_selection import train_test_split\n",
        "from sklearn.linear_model import LogisticRegression\n",
        "from sklearn.metrics import accuracy_score, confusion_matrix, classification_report\n",
        "\n",
        "data = {\n",
        "    'Resistencia': [25, 40, 30, 50, 35, 55, 45, 20],\n",
        "    'Edad': [28, 56, 28, 90, 28, 120, 60, 7],\n",
        "    'Relación_agua_cemento': [0.45, 0.35, 0.50, 0.30, 0.40, 0.32, 0.36, 0.55],\n",
        "    'Falla': ['Si', 'No', 'Si', 'No', 'Si', 'No', 'No', 'Si']\n",
        "}\n",
        "\n",
        "df = pd.DataFrame(data)\n",
        "\n",
        "df['Falla'] = df['Falla'].map({'Si': 1, 'No': 0})\n",
        "\n",
        "X = df[['Resistencia', 'Edad', 'Relación_agua_cemento']]\n",
        "y = df['Falla']\n",
        "\n",
        "X_train, X_test, y_train, y_test = train_test_split(X, y, test_size=0.2, random_state=42)\n",
        "\n",
        "model = LogisticRegression()\n",
        "model.fit(X_train, y_train)\n",
        "\n",
        "y_pred = model.predict(X_test)\n",
        "\n",
        "accuracy = accuracy_score(y_test, y_pred)\n",
        "conf_matrix = confusion_matrix(y_test, y_pred)\n",
        "classification_report_str = classification_report(y_test, y_pred)\n",
        "coeficientes = model.coef_[0]\n",
        "feature_names = X.columns\n",
        "coef_df = pd.DataFrame(coeficientes, index=feature_names, columns=['Coeficiente'])\n",
        "\n",
        "conf_matrix, classification_report_str, coef_df\n"
      ],
      "metadata": {
        "colab": {
          "base_uri": "https://localhost:8080/"
        },
        "id": "KjbX5jvz9Ilp",
        "outputId": "5507b5fb-f346-42fd-a41b-c442acde7492"
      },
      "id": "KjbX5jvz9Ilp",
      "execution_count": 7,
      "outputs": [
        {
          "output_type": "stream",
          "name": "stderr",
          "text": [
            "/usr/local/lib/python3.10/dist-packages/sklearn/metrics/_classification.py:409: UserWarning: A single label was found in 'y_true' and 'y_pred'. For the confusion matrix to have the correct shape, use the 'labels' parameter to pass all known labels.\n",
            "  warnings.warn(\n"
          ]
        },
        {
          "output_type": "execute_result",
          "data": {
            "text/plain": [
              "(array([[2]]),\n",
              " '              precision    recall  f1-score   support\\n\\n           0       1.00      1.00      1.00         2\\n\\n    accuracy                           1.00         2\\n   macro avg       1.00      1.00      1.00         2\\nweighted avg       1.00      1.00      1.00         2\\n',\n",
              "                        Coeficiente\n",
              " Resistencia              -0.115218\n",
              " Edad                     -0.279618\n",
              " Relación_agua_cemento     0.000675)"
            ]
          },
          "metadata": {},
          "execution_count": 7
        }
      ]
    },
    {
      "cell_type": "markdown",
      "id": "507337c2-1ef4-4abf-99d4-319dadfaf2d3",
      "metadata": {
        "id": "507337c2-1ef4-4abf-99d4-319dadfaf2d3"
      },
      "source": [
        "2. Calcula la probabilidad de falla para una muestra con las siguientes características:\n",
        "- Resistencia a la compresión: 38 MPa\n",
        "- Edad del concreto: 30 días\n",
        "- Relación agua-cemento: 0.40"
      ]
    },
    {
      "cell_type": "code",
      "execution_count": 8,
      "id": "e4b6b71a-0e68-40d6-ba60-6c91407ebbbe",
      "metadata": {
        "id": "e4b6b71a-0e68-40d6-ba60-6c91407ebbbe",
        "colab": {
          "base_uri": "https://localhost:8080/"
        },
        "outputId": "5f01b69e-96bb-4878-d1b8-13f0a6036d22"
      },
      "outputs": [
        {
          "output_type": "execute_result",
          "data": {
            "text/plain": [
              "array([0.98859978])"
            ]
          },
          "metadata": {},
          "execution_count": 8
        }
      ],
      "source": [
        "nueva_muestra = pd.DataFrame({\n",
        "    'Resistencia': [38],\n",
        "    'Edad': [30],\n",
        "    'Relación_agua_cemento': [0.40]\n",
        "})\n",
        "\n",
        "probabilidad_falla = model.predict_proba(nueva_muestra)[:, 1]\n",
        "probabilidad_falla"
      ]
    },
    {
      "cell_type": "code",
      "execution_count": null,
      "id": "f1b5c4da-35ca-49b4-98f8-f58201d4cfb7",
      "metadata": {
        "id": "f1b5c4da-35ca-49b4-98f8-f58201d4cfb7"
      },
      "outputs": [],
      "source": []
    },
    {
      "cell_type": "code",
      "execution_count": null,
      "id": "b2fb70de-91c0-4323-af97-5d02f17b4818",
      "metadata": {
        "id": "b2fb70de-91c0-4323-af97-5d02f17b4818"
      },
      "outputs": [],
      "source": []
    }
  ],
  "metadata": {
    "kernelspec": {
      "display_name": "Python 3 (ipykernel)",
      "language": "python",
      "name": "python3"
    },
    "language_info": {
      "codemirror_mode": {
        "name": "ipython",
        "version": 3
      },
      "file_extension": ".py",
      "mimetype": "text/x-python",
      "name": "python",
      "nbconvert_exporter": "python",
      "pygments_lexer": "ipython3",
      "version": "3.12.4"
    },
    "colab": {
      "provenance": []
    }
  },
  "nbformat": 4,
  "nbformat_minor": 5
}