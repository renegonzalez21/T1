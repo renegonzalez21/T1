{
  "metadata": {
    "kernelspec": {
      "name": "python",
      "display_name": "Python (Pyodide)",
      "language": "python"
    },
    "language_info": {
      "codemirror_mode": {
        "name": "python",
        "version": 3
      },
      "file_extension": ".py",
      "mimetype": "text/x-python",
      "name": "python",
      "nbconvert_exporter": "python",
      "pygments_lexer": "ipython3",
      "version": "3.8"
    }
  },
  "nbformat_minor": 4,
  "nbformat": 4,
  "cells": [
    {
      "cell_type": "markdown",
      "source": "# Repaso Módulo 1 - Optimización.\n---",
      "metadata": {}
    },
    {
      "cell_type": "markdown",
      "source": "## Primer punto. Optimización de funciones escalares usando `sympy`.\n\n**Enunciado.** Calcular **las dimensiones** del rectángulo de área máxima que puede inscribirse dentro de un semicírculo de radio 2.\n\nNote que **las dimensiones** son base $b = 2x$ y altura $h = y$. Ver la siguiente figura.",
      "metadata": {}
    },
    {
      "cell_type": "code",
      "source": "import numpy as np\nimport matplotlib.pyplot as plt\n%matplotlib inline",
      "metadata": {
        "trusted": true
      },
      "outputs": [],
      "execution_count": 1
    },
    {
      "cell_type": "code",
      "source": "x = np.linspace(-2, 2, 100)\ny = np.sqrt(4 - x**2)\n\nxr = [-1.5, -1.5, 1.5, 1.5, -1.5]\nyr = [0, np.sqrt(4 - 1.5**2), np.sqrt(4 - 1.5**2), 0, 0]\n\nxx = [0, 1.5]\nyx = [0, 0]\n\nxy = [1.5, 1.5]\nyy = [0, np.sqrt(4 - 1.5**2)]\n\nplt.figure(figsize = (12, 6))\nplt.plot(x, y, 'b', label = 'semicírculo')\nplt.plot(xr, yr, 'r', label = 'rectángulo')\nplt.plot(xx, yx, 'k')\nplt.plot(xy, yy, 'g')\nplt.text(0.7, 0.1, '$x$', fontsize = 16)\nplt.text(1.6, 0.6, '$y$', fontsize = 16, color = 'g')\nplt.legend(loc = 'best')\nplt.show()",
      "metadata": {},
      "outputs": [
        {
          "data": {
            "image/png": "[encoded data removed]",
            "text/plain": [
              "<Figure size 864x432 with 1 Axes>"
            ]
          },
          "metadata": {
            "needs_background": "light"
          },
          "output_type": "display_data"
        }
      ],
      "execution_count": 2
    },
    {
      "cell_type": "markdown",
      "source": "**Punto 1.** Encuentre el área del rectángulo en función de la variable $x$, $A_R(x)$. También provea el dominio de la función para que tenga sentido.\n\nRealice este punto usando fórmulas en $\\LaTeX$, en celdas Markdown.",
      "metadata": {}
    },
    {
      "cell_type": "markdown",
      "source": "**Punto 2.** Usando `sympy` maximice la función $A_R(x)$ en su dominio.",
      "metadata": {}
    },
    {
      "cell_type": "markdown",
      "source": "**Punto 3.** ¿Cuáles son las dimensiones $b$ y $h$ del rectángulo resultante?",
      "metadata": {}
    },
    {
      "cell_type": "markdown",
      "source": "## Segundo punto. Programación lineal.",
      "metadata": {}
    },
    {
      "cell_type": "markdown",
      "source": "**Enunciado.** Considere un restaurante que abre los siete días de la semana. Con base en la experiencia, el mínimo número de trabajadores necesarios en cada día de la semana es:",
      "metadata": {}
    },
    {
      "cell_type": "markdown",
      "source": "Cada trabajador labora cinco días consecutivos, y luego descansa dos, repitiendo este patrón indefinidamente. Se debe minimizar la cantidad de trabajadores totales en el restaurante.\n\n*Definición de variables*: enumeramos los días del uno al siete (Lunes - 1, Martes - 2, ..., Domingo - 7). Sea $x_i$ el número de trabajadores que empieza su turno de cinco días el día $i$.",
      "metadata": {}
    },
    {
      "cell_type": "markdown",
      "source": "**Punto 1.** Escriba la función a minimizar junto con las restricciones, explicando detalladamente cada paso (usando fórmulas en LaTeX, en celdas Markdown). Además escriba el problema en la forma \n\\begin{equation}\n\\begin{array}{ll}\n\\min_{\\boldsymbol{x}} & \\boldsymbol{c}^T\\boldsymbol{x} \\\\\n\\text{s. a. }        & \\boldsymbol{A}_{eq}\\boldsymbol{x}=\\boldsymbol{b}_{eq} \\\\\n                     & \\boldsymbol{A}\\boldsymbol{x}\\leq\\boldsymbol{b},\n\\end{array}\n\\end{equation}\n\nproporcionando $\\boldsymbol{c}$, $\\boldsymbol{A}$ y $\\boldsymbol{b}$ ($\\boldsymbol{A}_{eq}$ y $\\boldsymbol{b}_{eq}$, de ser necesario).",
      "metadata": {}
    },
    {
      "cell_type": "code",
      "source": "import pandas as pd\nimport scipy.optimize as opt",
      "metadata": {},
      "outputs": [],
      "execution_count": 2
    },
    {
      "cell_type": "code",
      "source": "df = pd.DataFrame(columns=['Lunes', 'Martes', 'Miercoles', 'Jueves', 'Viernes', 'Sábado', 'Domingo'], index = ['Num_trabajadores'])\ndf.loc['Num_trabajadores', :] = [14, 13, 15, 16, 19, 18, 11]\ndf",
      "metadata": {},
      "outputs": [
        {
          "data": {
            "text/html": [
              "<div>\n",
              "<style scoped>\n",
              "    .dataframe tbody tr th:only-of-type {\n",
              "        vertical-align: middle;\n",
              "    }\n",
              "\n",
              "    .dataframe tbody tr th {\n",
              "        vertical-align: top;\n",
              "    }\n",
              "\n",
              "    .dataframe thead th {\n",
              "        text-align: right;\n",
              "    }\n",
              "</style>\n",
              "<table border=\"1\" class=\"dataframe\">\n",
              "  <thead>\n",
              "    <tr style=\"text-align: right;\">\n",
              "      <th></th>\n",
              "      <th>Lunes</th>\n",
              "      <th>Martes</th>\n",
              "      <th>Miercoles</th>\n",
              "      <th>Jueves</th>\n",
              "      <th>Viernes</th>\n",
              "      <th>Sábado</th>\n",
              "      <th>Domingo</th>\n",
              "    </tr>\n",
              "  </thead>\n",
              "  <tbody>\n",
              "    <tr>\n",
              "      <th>Num_trabajadores</th>\n",
              "      <td>14</td>\n",
              "      <td>13</td>\n",
              "      <td>15</td>\n",
              "      <td>16</td>\n",
              "      <td>19</td>\n",
              "      <td>18</td>\n",
              "      <td>11</td>\n",
              "    </tr>\n",
              "  </tbody>\n",
              "</table>\n",
              "</div>"
            ],
            "text/plain": [
              "                 Lunes Martes Miercoles Jueves Viernes Sábado Domingo\n",
              "Num_trabajadores    14     13        15     16      19     18      11"
            ]
          },
          "execution_count": 3,
          "metadata": {},
          "output_type": "execute_result"
        }
      ],
      "execution_count": 3
    },
    {
      "cell_type": "markdown",
      "source": "**Punto 2.** Resuelva el problema utilizando la función `linprog`. ¿Cuántos trabajadores son necesarios en total?",
      "metadata": {}
    },
    {
      "cell_type": "markdown",
      "source": "## Tercer punto. Regresión lineal.\n\n**Enunciado**. El archivo `Salarios_minimos.csv` contiene datos simplificados de los salarios mínimos desde 1986 a la fecha. La primer columna corresponde a los años, la segunda a dichos salarios. La información completa se encuentra en\n\nhttps://idconline.mx/laboral/salarios-minimos/salarios-minimos-1986-2007.\n\n**Punto 1.** Importar los datos en un DataFrame de pandas.",
      "metadata": {}
    },
    {
      "cell_type": "markdown",
      "source": "**Punto 2.** Usando los años como variable independiente $x$ y los salarios mínimos como variable dependiente $y$, ajustar polinomios de grado 1 hasta grado 3. Es decir:\n\n$$ y_1 = \\beta_0 + \\beta_1 x $$\n$$ y_2 = \\beta_0 + \\beta_1 x + \\beta_2 x^2$$\n$$ y_3 = \\beta_0 + \\beta_1 x + \\beta_2 x^2 + + \\beta_3 x^3 $$\n\n\n\nMostrar en un solo gráfico los datos del archivo contra los años, y los polinomios ajustados.\n\nGraficar la suma de los errores al cuadrado (RSS) contra el número de términos. ¿Cuál es el polinomio que mejor se ajusta?",
      "metadata": {}
    },
    {
      "cell_type": "markdown",
      "source": "**Punto 3.** Con los polinomios ajustados en el punto anterior, estime el salario mínimo en el año 2019 y compare con el dato real 102.68.\n\n¿Cuál polinomio estima mejor este dato? ¿Es el polinomio que mejor se ajusta? Concluya.",
      "metadata": {}
    },
    {
      "cell_type": "markdown",
      "source": "## Cuarto punto. Regresión logística.\n\n**Enunciado**. Ximena vive un poco alejada de la universidad donde estudia y quiere asegurarse de siempre llegar a tiempo. Ha estado registrando la hora a la que sale como minutos relativos a las 7 am. I.e. $x=25$ serían 25 minutos **después** de las 7 am, y $x=-15$ serían 15 minutos **antes** de las 7 am. Además, también registra si llega a tiempo o no. ¿Qué es lo más tarde que puede salir de su casa para tener 70% de probabilidad de llegar a tiempo?\n\n",
      "metadata": {}
    }
  ]
}